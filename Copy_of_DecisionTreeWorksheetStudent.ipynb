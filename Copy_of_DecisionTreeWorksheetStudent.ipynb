{
  "nbformat": 4,
  "nbformat_minor": 0,
  "metadata": {
    "colab": {
      "name": "Copy of DecisionTreeWorksheetStudent",
      "version": "0.3.2",
      "provenance": [],
      "collapsed_sections": [],
      "include_colab_link": true
    },
    "kernelspec": {
      "name": "python3",
      "display_name": "Python 3"
    }
  },
  "cells": [
    {
      "cell_type": "markdown",
      "metadata": {
        "id": "view-in-github",
        "colab_type": "text"
      },
      "source": [
        "[View in Colaboratory](https://colab.research.google.com/github/lingelizabeth/Week1_public/blob/master/Copy_of_DecisionTreeWorksheetStudent.ipynb)"
      ]
    },
    {
      "metadata": {
        "id": "-UimMCmGe19F",
        "colab_type": "text"
      },
      "cell_type": "markdown",
      "source": [
        "# Decision Tree Worksheet\n"
      ]
    },
    {
      "metadata": {
        "id": "kedW02LgKjVL",
        "colab_type": "code",
        "colab": {}
      },
      "cell_type": "code",
      "source": [
        "import numpy as np\n",
        "import pandas as pd\n",
        "from sklearn.model_selection import train_test_split\n",
        "from sklearn.tree import DecisionTreeClassifier\n",
        "from sklearn.metrics import accuracy_score\n",
        "from sklearn import tree\n",
        "from sklearn.ensemble import RandomForestClassifier\n",
        "from sklearn import metrics\n",
        "!pip install -q graphviz\n",
        "import graphviz\n",
        "import matplotlib.pyplot as plt"
      ],
      "execution_count": 0,
      "outputs": []
    },
    {
      "metadata": {
        "id": "rz35eT5-SMht",
        "colab_type": "text"
      },
      "cell_type": "markdown",
      "source": [
        "#### Load pima indians diabetes dataset below"
      ]
    },
    {
      "metadata": {
        "id": "Ydh9gmDkMGmu",
        "colab_type": "code",
        "colab": {}
      },
      "cell_type": "code",
      "source": [
        "url = \"https://raw.githubusercontent.com/jbrownlee/Datasets/master/pima-indians-diabetes.data.csv\"\n",
        "names = ['preg', 'plas', 'pres', 'skin', 'test', 'mass', 'pedi', 'age', 'class']\n",
        "# your code here\n",
        "data = pd.read_csv(url)\n",
        "data.columns = names\n",
        "#print(data)"
      ],
      "execution_count": 0,
      "outputs": []
    },
    {
      "metadata": {
        "id": "KAFhsJIsSpMR",
        "colab_type": "text"
      },
      "cell_type": "markdown",
      "source": [
        "#### create training and testing dataset with sklearn function: train_test_split"
      ]
    },
    {
      "metadata": {
        "id": "fHbA28aFS2DM",
        "colab_type": "code",
        "colab": {}
      },
      "cell_type": "code",
      "source": [
        "# your code here\n",
        "\n",
        "X = data.drop('class', axis=1)\n",
        "y = data['class']\n",
        "X_train, X_test, y_train, y_test = train_test_split(X, y, test_size=.25, random_state=0)"
      ],
      "execution_count": 0,
      "outputs": []
    },
    {
      "metadata": {
        "id": "4_8DZinWTJRa",
        "colab_type": "text"
      },
      "cell_type": "markdown",
      "source": [
        "#### Create a model with sklearn's DecisionTreeClassifier and predict values on your test set"
      ]
    },
    {
      "metadata": {
        "id": "EgByCP_EhyB2",
        "colab_type": "code",
        "colab": {}
      },
      "cell_type": "code",
      "source": [
        "# your code here\n",
        "clf = DecisionTreeClassifier(criterion=\"gini\", max_depth=4, min_samples_leaf=3, random_state=0)\n",
        "clf.fit(X_train, y_train)\n",
        "y_pred = clf.predict(X_test)\n",
        "#print(y_pred)"
      ],
      "execution_count": 0,
      "outputs": []
    },
    {
      "metadata": {
        "id": "6HNa6fxbT6ak",
        "colab_type": "text"
      },
      "cell_type": "markdown",
      "source": [
        "#### Print the accuracy on the test data, play with the parameters and try to improve the accuracy\n",
        "hint: there is an sklearn to calculate accuracy"
      ]
    },
    {
      "metadata": {
        "id": "6Pbu-t_tiqnB",
        "colab_type": "code",
        "colab": {
          "base_uri": "https://localhost:8080/",
          "height": 34
        },
        "outputId": "9b211a6b-8ef3-486d-a1af-6ec0d1b2c98a"
      },
      "cell_type": "code",
      "source": [
        "# your code here\n",
        "accuracy_score(y_test, y_pred)\n",
        "# (criterion=\"entropy\", max_depth=4, min_samples_leaf=3, random_state=0) gives 78% on train\n",
        "#and 70% on test data"
      ],
      "execution_count": 119,
      "outputs": [
        {
          "output_type": "execute_result",
          "data": {
            "text/plain": [
              "0.71875"
            ]
          },
          "metadata": {
            "tags": []
          },
          "execution_count": 119
        }
      ]
    },
    {
      "metadata": {
        "id": "tKdqOMBKUvGZ",
        "colab_type": "text"
      },
      "cell_type": "markdown",
      "source": [
        "#### Use graphviz to view the decision tree graph\n",
        "##### hint: want to look at a code example, see the Classification Evaluation notebook on github"
      ]
    },
    {
      "metadata": {
        "id": "8o55bY_jl8gj",
        "colab_type": "code",
        "colab": {
          "base_uri": "https://localhost:8080/",
          "height": 777
        },
        "outputId": "da2fd626-6696-4eef-a18c-9d1b21a243ad"
      },
      "cell_type": "code",
      "source": [
        "# your code here\n",
        "# visualize the decision tree\n",
        "feature_names = ['preg', 'plas', 'pres', 'skin', 'test', 'mass', 'pedi', 'age']\n",
        "\n",
        "dot_data = tree.export_graphviz(clf, out_file=None, \n",
        "                         feature_names=feature_names,  \n",
        "                         class_names=['No Diabetes','Diabetes'],  \n",
        "                         filled=True, rounded=True,\n",
        "                         max_depth=4) \n",
        "\n",
        "graph = graphviz.Source(dot_data)  \n",
        "graph "
      ],
      "execution_count": 115,
      "outputs": [
        {
          "output_type": "execute_result",
          "data": {
            "text/plain": [
              "<graphviz.files.Source at 0x7f8edab22198>"
            ],
            "image/svg+xml": "<?xml version=\"1.0\" encoding=\"UTF-8\" standalone=\"no\"?>\n<!DOCTYPE svg PUBLIC \"-//W3C//DTD SVG 1.1//EN\"\n \"http://www.w3.org/Graphics/SVG/1.1/DTD/svg11.dtd\">\n<!-- Generated by graphviz version 2.38.0 (20140413.2041)\n -->\n<!-- Title: Tree Pages: 1 -->\n<svg width=\"2066pt\" height=\"552pt\"\n viewBox=\"0.00 0.00 2066.00 552.00\" xmlns=\"http://www.w3.org/2000/svg\" xmlns:xlink=\"http://www.w3.org/1999/xlink\">\n<g id=\"graph0\" class=\"graph\" transform=\"scale(1 1) rotate(0) translate(4 548)\">\n<title>Tree</title>\n<polygon fill=\"white\" stroke=\"none\" points=\"-4,4 -4,-548 2062,-548 2062,4 -4,4\"/>\n<!-- 0 -->\n<g id=\"node1\" class=\"node\"><title>0</title>\n<path fill=\"#e58139\" fill-opacity=\"0.443137\" stroke=\"black\" d=\"M910,-544C910,-544 773,-544 773,-544 767,-544 761,-538 761,-532 761,-532 761,-473 761,-473 761,-467 767,-461 773,-461 773,-461 910,-461 910,-461 916,-461 922,-467 922,-473 922,-473 922,-532 922,-532 922,-538 916,-544 910,-544\"/>\n<text text-anchor=\"middle\" x=\"841.5\" y=\"-528.8\" font-family=\"Helvetica,sans-Serif\" font-size=\"14.00\">plas &lt;= 127.5</text>\n<text text-anchor=\"middle\" x=\"841.5\" y=\"-513.8\" font-family=\"Helvetica,sans-Serif\" font-size=\"14.00\">gini = 0.46</text>\n<text text-anchor=\"middle\" x=\"841.5\" y=\"-498.8\" font-family=\"Helvetica,sans-Serif\" font-size=\"14.00\">samples = 575</text>\n<text text-anchor=\"middle\" x=\"841.5\" y=\"-483.8\" font-family=\"Helvetica,sans-Serif\" font-size=\"14.00\">value = [369, 206]</text>\n<text text-anchor=\"middle\" x=\"841.5\" y=\"-468.8\" font-family=\"Helvetica,sans-Serif\" font-size=\"14.00\">class = No Diabetes</text>\n</g>\n<!-- 1 -->\n<g id=\"node2\" class=\"node\"><title>1</title>\n<path fill=\"#e58139\" fill-opacity=\"0.760784\" stroke=\"black\" d=\"M776,-425C776,-425 639,-425 639,-425 633,-425 627,-419 627,-413 627,-413 627,-354 627,-354 627,-348 633,-342 639,-342 639,-342 776,-342 776,-342 782,-342 788,-348 788,-354 788,-354 788,-413 788,-413 788,-419 782,-425 776,-425\"/>\n<text text-anchor=\"middle\" x=\"707.5\" y=\"-409.8\" font-family=\"Helvetica,sans-Serif\" font-size=\"14.00\">mass &lt;= 27.35</text>\n<text text-anchor=\"middle\" x=\"707.5\" y=\"-394.8\" font-family=\"Helvetica,sans-Serif\" font-size=\"14.00\">gini = 0.31</text>\n<text text-anchor=\"middle\" x=\"707.5\" y=\"-379.8\" font-family=\"Helvetica,sans-Serif\" font-size=\"14.00\">samples = 354</text>\n<text text-anchor=\"middle\" x=\"707.5\" y=\"-364.8\" font-family=\"Helvetica,sans-Serif\" font-size=\"14.00\">value = [286, 68]</text>\n<text text-anchor=\"middle\" x=\"707.5\" y=\"-349.8\" font-family=\"Helvetica,sans-Serif\" font-size=\"14.00\">class = No Diabetes</text>\n</g>\n<!-- 0&#45;&gt;1 -->\n<g id=\"edge1\" class=\"edge\"><title>0&#45;&gt;1</title>\n<path fill=\"none\" stroke=\"black\" d=\"M795.009,-460.907C784.2,-451.469 772.602,-441.343 761.5,-431.649\"/>\n<polygon fill=\"black\" stroke=\"black\" points=\"763.743,-428.961 753.908,-425.021 759.139,-434.234 763.743,-428.961\"/>\n<text text-anchor=\"middle\" x=\"755.598\" y=\"-446.264\" font-family=\"Helvetica,sans-Serif\" font-size=\"14.00\">True</text>\n</g>\n<!-- 14 -->\n<g id=\"node15\" class=\"node\"><title>14</title>\n<path fill=\"#399de5\" fill-opacity=\"0.400000\" stroke=\"black\" d=\"M1034,-425C1034,-425 917,-425 917,-425 911,-425 905,-419 905,-413 905,-413 905,-354 905,-354 905,-348 911,-342 917,-342 917,-342 1034,-342 1034,-342 1040,-342 1046,-348 1046,-354 1046,-354 1046,-413 1046,-413 1046,-419 1040,-425 1034,-425\"/>\n<text text-anchor=\"middle\" x=\"975.5\" y=\"-409.8\" font-family=\"Helvetica,sans-Serif\" font-size=\"14.00\">mass &lt;= 29.95</text>\n<text text-anchor=\"middle\" x=\"975.5\" y=\"-394.8\" font-family=\"Helvetica,sans-Serif\" font-size=\"14.00\">gini = 0.469</text>\n<text text-anchor=\"middle\" x=\"975.5\" y=\"-379.8\" font-family=\"Helvetica,sans-Serif\" font-size=\"14.00\">samples = 221</text>\n<text text-anchor=\"middle\" x=\"975.5\" y=\"-364.8\" font-family=\"Helvetica,sans-Serif\" font-size=\"14.00\">value = [83, 138]</text>\n<text text-anchor=\"middle\" x=\"975.5\" y=\"-349.8\" font-family=\"Helvetica,sans-Serif\" font-size=\"14.00\">class = Diabetes</text>\n</g>\n<!-- 0&#45;&gt;14 -->\n<g id=\"edge14\" class=\"edge\"><title>0&#45;&gt;14</title>\n<path fill=\"none\" stroke=\"black\" d=\"M887.991,-460.907C898.8,-451.469 910.398,-441.343 921.5,-431.649\"/>\n<polygon fill=\"black\" stroke=\"black\" points=\"923.861,-434.234 929.092,-425.021 919.257,-428.961 923.861,-434.234\"/>\n<text text-anchor=\"middle\" x=\"927.402\" y=\"-446.264\" font-family=\"Helvetica,sans-Serif\" font-size=\"14.00\">False</text>\n</g>\n<!-- 2 -->\n<g id=\"node3\" class=\"node\"><title>2</title>\n<path fill=\"#e58139\" fill-opacity=\"0.980392\" stroke=\"black\" d=\"M328,-306C328,-306 191,-306 191,-306 185,-306 179,-300 179,-294 179,-294 179,-235 179,-235 179,-229 185,-223 191,-223 191,-223 328,-223 328,-223 334,-223 340,-229 340,-235 340,-235 340,-294 340,-294 340,-300 334,-306 328,-306\"/>\n<text text-anchor=\"middle\" x=\"259.5\" y=\"-290.8\" font-family=\"Helvetica,sans-Serif\" font-size=\"14.00\">preg &lt;= 6.5</text>\n<text text-anchor=\"middle\" x=\"259.5\" y=\"-275.8\" font-family=\"Helvetica,sans-Serif\" font-size=\"14.00\">gini = 0.037</text>\n<text text-anchor=\"middle\" x=\"259.5\" y=\"-260.8\" font-family=\"Helvetica,sans-Serif\" font-size=\"14.00\">samples = 107</text>\n<text text-anchor=\"middle\" x=\"259.5\" y=\"-245.8\" font-family=\"Helvetica,sans-Serif\" font-size=\"14.00\">value = [105, 2]</text>\n<text text-anchor=\"middle\" x=\"259.5\" y=\"-230.8\" font-family=\"Helvetica,sans-Serif\" font-size=\"14.00\">class = No Diabetes</text>\n</g>\n<!-- 1&#45;&gt;2 -->\n<g id=\"edge2\" class=\"edge\"><title>1&#45;&gt;2</title>\n<path fill=\"none\" stroke=\"black\" d=\"M626.889,-361.448C548.94,-341.09 431.026,-310.296 349.921,-289.114\"/>\n<polygon fill=\"black\" stroke=\"black\" points=\"350.778,-285.721 340.218,-286.58 349.009,-292.494 350.778,-285.721\"/>\n</g>\n<!-- 7 -->\n<g id=\"node8\" class=\"node\"><title>7</title>\n<path fill=\"#e58139\" fill-opacity=\"0.635294\" stroke=\"black\" d=\"M776,-306C776,-306 639,-306 639,-306 633,-306 627,-300 627,-294 627,-294 627,-235 627,-235 627,-229 633,-223 639,-223 639,-223 776,-223 776,-223 782,-223 788,-229 788,-235 788,-235 788,-294 788,-294 788,-300 782,-306 776,-306\"/>\n<text text-anchor=\"middle\" x=\"707.5\" y=\"-290.8\" font-family=\"Helvetica,sans-Serif\" font-size=\"14.00\">age &lt;= 30.5</text>\n<text text-anchor=\"middle\" x=\"707.5\" y=\"-275.8\" font-family=\"Helvetica,sans-Serif\" font-size=\"14.00\">gini = 0.392</text>\n<text text-anchor=\"middle\" x=\"707.5\" y=\"-260.8\" font-family=\"Helvetica,sans-Serif\" font-size=\"14.00\">samples = 247</text>\n<text text-anchor=\"middle\" x=\"707.5\" y=\"-245.8\" font-family=\"Helvetica,sans-Serif\" font-size=\"14.00\">value = [181, 66]</text>\n<text text-anchor=\"middle\" x=\"707.5\" y=\"-230.8\" font-family=\"Helvetica,sans-Serif\" font-size=\"14.00\">class = No Diabetes</text>\n</g>\n<!-- 1&#45;&gt;7 -->\n<g id=\"edge7\" class=\"edge\"><title>1&#45;&gt;7</title>\n<path fill=\"none\" stroke=\"black\" d=\"M707.5,-341.907C707.5,-333.649 707.5,-324.864 707.5,-316.302\"/>\n<polygon fill=\"black\" stroke=\"black\" points=\"711,-316.021 707.5,-306.021 704,-316.021 711,-316.021\"/>\n</g>\n<!-- 3 -->\n<g id=\"node4\" class=\"node\"><title>3</title>\n<path fill=\"#e58139\" stroke=\"black\" d=\"M149,-179.5C149,-179.5 12,-179.5 12,-179.5 6,-179.5 0,-173.5 0,-167.5 0,-167.5 0,-123.5 0,-123.5 0,-117.5 6,-111.5 12,-111.5 12,-111.5 149,-111.5 149,-111.5 155,-111.5 161,-117.5 161,-123.5 161,-123.5 161,-167.5 161,-167.5 161,-173.5 155,-179.5 149,-179.5\"/>\n<text text-anchor=\"middle\" x=\"80.5\" y=\"-164.3\" font-family=\"Helvetica,sans-Serif\" font-size=\"14.00\">gini = 0.0</text>\n<text text-anchor=\"middle\" x=\"80.5\" y=\"-149.3\" font-family=\"Helvetica,sans-Serif\" font-size=\"14.00\">samples = 90</text>\n<text text-anchor=\"middle\" x=\"80.5\" y=\"-134.3\" font-family=\"Helvetica,sans-Serif\" font-size=\"14.00\">value = [90, 0]</text>\n<text text-anchor=\"middle\" x=\"80.5\" y=\"-119.3\" font-family=\"Helvetica,sans-Serif\" font-size=\"14.00\">class = No Diabetes</text>\n</g>\n<!-- 2&#45;&gt;3 -->\n<g id=\"edge3\" class=\"edge\"><title>2&#45;&gt;3</title>\n<path fill=\"none\" stroke=\"black\" d=\"M197.397,-222.907C178.742,-210.714 158.331,-197.373 139.858,-185.298\"/>\n<polygon fill=\"black\" stroke=\"black\" points=\"141.528,-182.209 131.243,-179.667 137.698,-188.068 141.528,-182.209\"/>\n</g>\n<!-- 4 -->\n<g id=\"node5\" class=\"node\"><title>4</title>\n<path fill=\"#e58139\" fill-opacity=\"0.866667\" stroke=\"black\" d=\"M328,-187C328,-187 191,-187 191,-187 185,-187 179,-181 179,-175 179,-175 179,-116 179,-116 179,-110 185,-104 191,-104 191,-104 328,-104 328,-104 334,-104 340,-110 340,-116 340,-116 340,-175 340,-175 340,-181 334,-187 328,-187\"/>\n<text text-anchor=\"middle\" x=\"259.5\" y=\"-171.8\" font-family=\"Helvetica,sans-Serif\" font-size=\"14.00\">age &lt;= 32.0</text>\n<text text-anchor=\"middle\" x=\"259.5\" y=\"-156.8\" font-family=\"Helvetica,sans-Serif\" font-size=\"14.00\">gini = 0.208</text>\n<text text-anchor=\"middle\" x=\"259.5\" y=\"-141.8\" font-family=\"Helvetica,sans-Serif\" font-size=\"14.00\">samples = 17</text>\n<text text-anchor=\"middle\" x=\"259.5\" y=\"-126.8\" font-family=\"Helvetica,sans-Serif\" font-size=\"14.00\">value = [15, 2]</text>\n<text text-anchor=\"middle\" x=\"259.5\" y=\"-111.8\" font-family=\"Helvetica,sans-Serif\" font-size=\"14.00\">class = No Diabetes</text>\n</g>\n<!-- 2&#45;&gt;4 -->\n<g id=\"edge4\" class=\"edge\"><title>2&#45;&gt;4</title>\n<path fill=\"none\" stroke=\"black\" d=\"M259.5,-222.907C259.5,-214.649 259.5,-205.864 259.5,-197.302\"/>\n<polygon fill=\"black\" stroke=\"black\" points=\"263,-197.021 259.5,-187.021 256,-197.021 263,-197.021\"/>\n</g>\n<!-- 5 -->\n<g id=\"node6\" class=\"node\"><title>5</title>\n<path fill=\"#399de5\" fill-opacity=\"0.498039\" stroke=\"black\" d=\"M149,-68C149,-68 36,-68 36,-68 30,-68 24,-62 24,-56 24,-56 24,-12 24,-12 24,-6 30,-0 36,-0 36,-0 149,-0 149,-0 155,-0 161,-6 161,-12 161,-12 161,-56 161,-56 161,-62 155,-68 149,-68\"/>\n<text text-anchor=\"middle\" x=\"92.5\" y=\"-52.8\" font-family=\"Helvetica,sans-Serif\" font-size=\"14.00\">gini = 0.444</text>\n<text text-anchor=\"middle\" x=\"92.5\" y=\"-37.8\" font-family=\"Helvetica,sans-Serif\" font-size=\"14.00\">samples = 3</text>\n<text text-anchor=\"middle\" x=\"92.5\" y=\"-22.8\" font-family=\"Helvetica,sans-Serif\" font-size=\"14.00\">value = [1, 2]</text>\n<text text-anchor=\"middle\" x=\"92.5\" y=\"-7.8\" font-family=\"Helvetica,sans-Serif\" font-size=\"14.00\">class = Diabetes</text>\n</g>\n<!-- 4&#45;&gt;5 -->\n<g id=\"edge5\" class=\"edge\"><title>4&#45;&gt;5</title>\n<path fill=\"none\" stroke=\"black\" d=\"M197.315,-103.726C182.354,-93.9161 166.414,-83.4644 151.598,-73.7496\"/>\n<polygon fill=\"black\" stroke=\"black\" points=\"153.302,-70.6816 143.02,-68.1252 149.463,-76.5355 153.302,-70.6816\"/>\n</g>\n<!-- 6 -->\n<g id=\"node7\" class=\"node\"><title>6</title>\n<path fill=\"#e58139\" stroke=\"black\" d=\"M328,-68C328,-68 191,-68 191,-68 185,-68 179,-62 179,-56 179,-56 179,-12 179,-12 179,-6 185,-0 191,-0 191,-0 328,-0 328,-0 334,-0 340,-6 340,-12 340,-12 340,-56 340,-56 340,-62 334,-68 328,-68\"/>\n<text text-anchor=\"middle\" x=\"259.5\" y=\"-52.8\" font-family=\"Helvetica,sans-Serif\" font-size=\"14.00\">gini = 0.0</text>\n<text text-anchor=\"middle\" x=\"259.5\" y=\"-37.8\" font-family=\"Helvetica,sans-Serif\" font-size=\"14.00\">samples = 14</text>\n<text text-anchor=\"middle\" x=\"259.5\" y=\"-22.8\" font-family=\"Helvetica,sans-Serif\" font-size=\"14.00\">value = [14, 0]</text>\n<text text-anchor=\"middle\" x=\"259.5\" y=\"-7.8\" font-family=\"Helvetica,sans-Serif\" font-size=\"14.00\">class = No Diabetes</text>\n</g>\n<!-- 4&#45;&gt;6 -->\n<g id=\"edge6\" class=\"edge\"><title>4&#45;&gt;6</title>\n<path fill=\"none\" stroke=\"black\" d=\"M259.5,-103.726C259.5,-95.5175 259.5,-86.8595 259.5,-78.56\"/>\n<polygon fill=\"black\" stroke=\"black\" points=\"263,-78.2996 259.5,-68.2996 256,-78.2996 263,-78.2996\"/>\n</g>\n<!-- 8 -->\n<g id=\"node9\" class=\"node\"><title>8</title>\n<path fill=\"#e58139\" fill-opacity=\"0.815686\" stroke=\"black\" d=\"M686,-187C686,-187 549,-187 549,-187 543,-187 537,-181 537,-175 537,-175 537,-116 537,-116 537,-110 543,-104 549,-104 549,-104 686,-104 686,-104 692,-104 698,-110 698,-116 698,-116 698,-175 698,-175 698,-181 692,-187 686,-187\"/>\n<text text-anchor=\"middle\" x=\"617.5\" y=\"-171.8\" font-family=\"Helvetica,sans-Serif\" font-size=\"14.00\">pedi &lt;= 0.664</text>\n<text text-anchor=\"middle\" x=\"617.5\" y=\"-156.8\" font-family=\"Helvetica,sans-Serif\" font-size=\"14.00\">gini = 0.262</text>\n<text text-anchor=\"middle\" x=\"617.5\" y=\"-141.8\" font-family=\"Helvetica,sans-Serif\" font-size=\"14.00\">samples = 142</text>\n<text text-anchor=\"middle\" x=\"617.5\" y=\"-126.8\" font-family=\"Helvetica,sans-Serif\" font-size=\"14.00\">value = [120, 22]</text>\n<text text-anchor=\"middle\" x=\"617.5\" y=\"-111.8\" font-family=\"Helvetica,sans-Serif\" font-size=\"14.00\">class = No Diabetes</text>\n</g>\n<!-- 7&#45;&gt;8 -->\n<g id=\"edge8\" class=\"edge\"><title>7&#45;&gt;8</title>\n<path fill=\"none\" stroke=\"black\" d=\"M676.275,-222.907C669.364,-213.923 661.973,-204.315 654.846,-195.05\"/>\n<polygon fill=\"black\" stroke=\"black\" points=\"657.541,-192.813 648.67,-187.021 651.993,-197.081 657.541,-192.813\"/>\n</g>\n<!-- 11 -->\n<g id=\"node12\" class=\"node\"><title>11</title>\n<path fill=\"#e58139\" fill-opacity=\"0.278431\" stroke=\"black\" d=\"M865,-187C865,-187 728,-187 728,-187 722,-187 716,-181 716,-175 716,-175 716,-116 716,-116 716,-110 722,-104 728,-104 728,-104 865,-104 865,-104 871,-104 877,-110 877,-116 877,-116 877,-175 877,-175 877,-181 871,-187 865,-187\"/>\n<text text-anchor=\"middle\" x=\"796.5\" y=\"-171.8\" font-family=\"Helvetica,sans-Serif\" font-size=\"14.00\">plas &lt;= 96.5</text>\n<text text-anchor=\"middle\" x=\"796.5\" y=\"-156.8\" font-family=\"Helvetica,sans-Serif\" font-size=\"14.00\">gini = 0.487</text>\n<text text-anchor=\"middle\" x=\"796.5\" y=\"-141.8\" font-family=\"Helvetica,sans-Serif\" font-size=\"14.00\">samples = 105</text>\n<text text-anchor=\"middle\" x=\"796.5\" y=\"-126.8\" font-family=\"Helvetica,sans-Serif\" font-size=\"14.00\">value = [61, 44]</text>\n<text text-anchor=\"middle\" x=\"796.5\" y=\"-111.8\" font-family=\"Helvetica,sans-Serif\" font-size=\"14.00\">class = No Diabetes</text>\n</g>\n<!-- 7&#45;&gt;11 -->\n<g id=\"edge11\" class=\"edge\"><title>7&#45;&gt;11</title>\n<path fill=\"none\" stroke=\"black\" d=\"M738.378,-222.907C745.212,-213.923 752.521,-204.315 759.569,-195.05\"/>\n<polygon fill=\"black\" stroke=\"black\" points=\"762.408,-197.099 765.676,-187.021 756.836,-192.861 762.408,-197.099\"/>\n</g>\n<!-- 9 -->\n<g id=\"node10\" class=\"node\"><title>9</title>\n<path fill=\"#e58139\" fill-opacity=\"0.878431\" stroke=\"black\" d=\"M507,-68C507,-68 370,-68 370,-68 364,-68 358,-62 358,-56 358,-56 358,-12 358,-12 358,-6 364,-0 370,-0 370,-0 507,-0 507,-0 513,-0 519,-6 519,-12 519,-12 519,-56 519,-56 519,-62 513,-68 507,-68\"/>\n<text text-anchor=\"middle\" x=\"438.5\" y=\"-52.8\" font-family=\"Helvetica,sans-Serif\" font-size=\"14.00\">gini = 0.191</text>\n<text text-anchor=\"middle\" x=\"438.5\" y=\"-37.8\" font-family=\"Helvetica,sans-Serif\" font-size=\"14.00\">samples = 112</text>\n<text text-anchor=\"middle\" x=\"438.5\" y=\"-22.8\" font-family=\"Helvetica,sans-Serif\" font-size=\"14.00\">value = [100, 12]</text>\n<text text-anchor=\"middle\" x=\"438.5\" y=\"-7.8\" font-family=\"Helvetica,sans-Serif\" font-size=\"14.00\">class = No Diabetes</text>\n</g>\n<!-- 8&#45;&gt;9 -->\n<g id=\"edge9\" class=\"edge\"><title>8&#45;&gt;9</title>\n<path fill=\"none\" stroke=\"black\" d=\"M551.101,-103.882C534.815,-93.9191 517.434,-83.2862 501.322,-73.4299\"/>\n<polygon fill=\"black\" stroke=\"black\" points=\"502.873,-70.2761 492.516,-68.0433 499.22,-76.2474 502.873,-70.2761\"/>\n</g>\n<!-- 10 -->\n<g id=\"node11\" class=\"node\"><title>10</title>\n<path fill=\"#e58139\" fill-opacity=\"0.498039\" stroke=\"black\" d=\"M686,-68C686,-68 549,-68 549,-68 543,-68 537,-62 537,-56 537,-56 537,-12 537,-12 537,-6 543,-0 549,-0 549,-0 686,-0 686,-0 692,-0 698,-6 698,-12 698,-12 698,-56 698,-56 698,-62 692,-68 686,-68\"/>\n<text text-anchor=\"middle\" x=\"617.5\" y=\"-52.8\" font-family=\"Helvetica,sans-Serif\" font-size=\"14.00\">gini = 0.444</text>\n<text text-anchor=\"middle\" x=\"617.5\" y=\"-37.8\" font-family=\"Helvetica,sans-Serif\" font-size=\"14.00\">samples = 30</text>\n<text text-anchor=\"middle\" x=\"617.5\" y=\"-22.8\" font-family=\"Helvetica,sans-Serif\" font-size=\"14.00\">value = [20, 10]</text>\n<text text-anchor=\"middle\" x=\"617.5\" y=\"-7.8\" font-family=\"Helvetica,sans-Serif\" font-size=\"14.00\">class = No Diabetes</text>\n</g>\n<!-- 8&#45;&gt;10 -->\n<g id=\"edge10\" class=\"edge\"><title>8&#45;&gt;10</title>\n<path fill=\"none\" stroke=\"black\" d=\"M617.5,-103.726C617.5,-95.5175 617.5,-86.8595 617.5,-78.56\"/>\n<polygon fill=\"black\" stroke=\"black\" points=\"621,-78.2996 617.5,-68.2996 614,-78.2996 621,-78.2996\"/>\n</g>\n<!-- 12 -->\n<g id=\"node13\" class=\"node\"><title>12</title>\n<path fill=\"#e58139\" fill-opacity=\"0.737255\" stroke=\"black\" d=\"M865,-68C865,-68 728,-68 728,-68 722,-68 716,-62 716,-56 716,-56 716,-12 716,-12 716,-6 722,-0 728,-0 728,-0 865,-0 865,-0 871,-0 877,-6 877,-12 877,-12 877,-56 877,-56 877,-62 871,-68 865,-68\"/>\n<text text-anchor=\"middle\" x=\"796.5\" y=\"-52.8\" font-family=\"Helvetica,sans-Serif\" font-size=\"14.00\">gini = 0.328</text>\n<text text-anchor=\"middle\" x=\"796.5\" y=\"-37.8\" font-family=\"Helvetica,sans-Serif\" font-size=\"14.00\">samples = 29</text>\n<text text-anchor=\"middle\" x=\"796.5\" y=\"-22.8\" font-family=\"Helvetica,sans-Serif\" font-size=\"14.00\">value = [23, 6]</text>\n<text text-anchor=\"middle\" x=\"796.5\" y=\"-7.8\" font-family=\"Helvetica,sans-Serif\" font-size=\"14.00\">class = No Diabetes</text>\n</g>\n<!-- 11&#45;&gt;12 -->\n<g id=\"edge12\" class=\"edge\"><title>11&#45;&gt;12</title>\n<path fill=\"none\" stroke=\"black\" d=\"M796.5,-103.726C796.5,-95.5175 796.5,-86.8595 796.5,-78.56\"/>\n<polygon fill=\"black\" stroke=\"black\" points=\"800,-78.2996 796.5,-68.2996 793,-78.2996 800,-78.2996\"/>\n</g>\n<!-- 13 -->\n<g id=\"node14\" class=\"node\"><title>13</title>\n<path fill=\"none\" stroke=\"black\" d=\"M1044,-68C1044,-68 907,-68 907,-68 901,-68 895,-62 895,-56 895,-56 895,-12 895,-12 895,-6 901,-0 907,-0 907,-0 1044,-0 1044,-0 1050,-0 1056,-6 1056,-12 1056,-12 1056,-56 1056,-56 1056,-62 1050,-68 1044,-68\"/>\n<text text-anchor=\"middle\" x=\"975.5\" y=\"-52.8\" font-family=\"Helvetica,sans-Serif\" font-size=\"14.00\">gini = 0.5</text>\n<text text-anchor=\"middle\" x=\"975.5\" y=\"-37.8\" font-family=\"Helvetica,sans-Serif\" font-size=\"14.00\">samples = 76</text>\n<text text-anchor=\"middle\" x=\"975.5\" y=\"-22.8\" font-family=\"Helvetica,sans-Serif\" font-size=\"14.00\">value = [38, 38]</text>\n<text text-anchor=\"middle\" x=\"975.5\" y=\"-7.8\" font-family=\"Helvetica,sans-Serif\" font-size=\"14.00\">class = No Diabetes</text>\n</g>\n<!-- 11&#45;&gt;13 -->\n<g id=\"edge13\" class=\"edge\"><title>11&#45;&gt;13</title>\n<path fill=\"none\" stroke=\"black\" d=\"M862.899,-103.882C879.185,-93.9191 896.566,-83.2862 912.678,-73.4299\"/>\n<polygon fill=\"black\" stroke=\"black\" points=\"914.78,-76.2474 921.484,-68.0433 911.127,-70.2761 914.78,-76.2474\"/>\n</g>\n<!-- 15 -->\n<g id=\"node16\" class=\"node\"><title>15</title>\n<path fill=\"#e58139\" fill-opacity=\"0.443137\" stroke=\"black\" d=\"M1044,-306C1044,-306 907,-306 907,-306 901,-306 895,-300 895,-294 895,-294 895,-235 895,-235 895,-229 901,-223 907,-223 907,-223 1044,-223 1044,-223 1050,-223 1056,-229 1056,-235 1056,-235 1056,-294 1056,-294 1056,-300 1050,-306 1044,-306\"/>\n<text text-anchor=\"middle\" x=\"975.5\" y=\"-290.8\" font-family=\"Helvetica,sans-Serif\" font-size=\"14.00\">age &lt;= 22.5</text>\n<text text-anchor=\"middle\" x=\"975.5\" y=\"-275.8\" font-family=\"Helvetica,sans-Serif\" font-size=\"14.00\">gini = 0.459</text>\n<text text-anchor=\"middle\" x=\"975.5\" y=\"-260.8\" font-family=\"Helvetica,sans-Serif\" font-size=\"14.00\">samples = 56</text>\n<text text-anchor=\"middle\" x=\"975.5\" y=\"-245.8\" font-family=\"Helvetica,sans-Serif\" font-size=\"14.00\">value = [36, 20]</text>\n<text text-anchor=\"middle\" x=\"975.5\" y=\"-230.8\" font-family=\"Helvetica,sans-Serif\" font-size=\"14.00\">class = No Diabetes</text>\n</g>\n<!-- 14&#45;&gt;15 -->\n<g id=\"edge15\" class=\"edge\"><title>14&#45;&gt;15</title>\n<path fill=\"none\" stroke=\"black\" d=\"M975.5,-341.907C975.5,-333.649 975.5,-324.864 975.5,-316.302\"/>\n<polygon fill=\"black\" stroke=\"black\" points=\"979,-316.021 975.5,-306.021 972,-316.021 979,-316.021\"/>\n</g>\n<!-- 20 -->\n<g id=\"node21\" class=\"node\"><title>20</title>\n<path fill=\"#399de5\" fill-opacity=\"0.600000\" stroke=\"black\" d=\"M1618,-306C1618,-306 1501,-306 1501,-306 1495,-306 1489,-300 1489,-294 1489,-294 1489,-235 1489,-235 1489,-229 1495,-223 1501,-223 1501,-223 1618,-223 1618,-223 1624,-223 1630,-229 1630,-235 1630,-235 1630,-294 1630,-294 1630,-300 1624,-306 1618,-306\"/>\n<text text-anchor=\"middle\" x=\"1559.5\" y=\"-290.8\" font-family=\"Helvetica,sans-Serif\" font-size=\"14.00\">plas &lt;= 154.5</text>\n<text text-anchor=\"middle\" x=\"1559.5\" y=\"-275.8\" font-family=\"Helvetica,sans-Serif\" font-size=\"14.00\">gini = 0.407</text>\n<text text-anchor=\"middle\" x=\"1559.5\" y=\"-260.8\" font-family=\"Helvetica,sans-Serif\" font-size=\"14.00\">samples = 165</text>\n<text text-anchor=\"middle\" x=\"1559.5\" y=\"-245.8\" font-family=\"Helvetica,sans-Serif\" font-size=\"14.00\">value = [47, 118]</text>\n<text text-anchor=\"middle\" x=\"1559.5\" y=\"-230.8\" font-family=\"Helvetica,sans-Serif\" font-size=\"14.00\">class = Diabetes</text>\n</g>\n<!-- 14&#45;&gt;20 -->\n<g id=\"edge20\" class=\"edge\"><title>14&#45;&gt;20</title>\n<path fill=\"none\" stroke=\"black\" d=\"M1046.23,-368.329C1155.3,-346.478 1363.92,-304.683 1478.75,-281.677\"/>\n<polygon fill=\"black\" stroke=\"black\" points=\"1479.77,-285.043 1488.89,-279.647 1478.39,-278.179 1479.77,-285.043\"/>\n</g>\n<!-- 16 -->\n<g id=\"node17\" class=\"node\"><title>16</title>\n<path fill=\"#e58139\" stroke=\"black\" d=\"M1044,-179.5C1044,-179.5 907,-179.5 907,-179.5 901,-179.5 895,-173.5 895,-167.5 895,-167.5 895,-123.5 895,-123.5 895,-117.5 901,-111.5 907,-111.5 907,-111.5 1044,-111.5 1044,-111.5 1050,-111.5 1056,-117.5 1056,-123.5 1056,-123.5 1056,-167.5 1056,-167.5 1056,-173.5 1050,-179.5 1044,-179.5\"/>\n<text text-anchor=\"middle\" x=\"975.5\" y=\"-164.3\" font-family=\"Helvetica,sans-Serif\" font-size=\"14.00\">gini = 0.0</text>\n<text text-anchor=\"middle\" x=\"975.5\" y=\"-149.3\" font-family=\"Helvetica,sans-Serif\" font-size=\"14.00\">samples = 12</text>\n<text text-anchor=\"middle\" x=\"975.5\" y=\"-134.3\" font-family=\"Helvetica,sans-Serif\" font-size=\"14.00\">value = [12, 0]</text>\n<text text-anchor=\"middle\" x=\"975.5\" y=\"-119.3\" font-family=\"Helvetica,sans-Serif\" font-size=\"14.00\">class = No Diabetes</text>\n</g>\n<!-- 15&#45;&gt;16 -->\n<g id=\"edge16\" class=\"edge\"><title>15&#45;&gt;16</title>\n<path fill=\"none\" stroke=\"black\" d=\"M975.5,-222.907C975.5,-212.204 975.5,-200.615 975.5,-189.776\"/>\n<polygon fill=\"black\" stroke=\"black\" points=\"979,-189.667 975.5,-179.667 972,-189.667 979,-189.667\"/>\n</g>\n<!-- 17 -->\n<g id=\"node18\" class=\"node\"><title>17</title>\n<path fill=\"#e58139\" fill-opacity=\"0.164706\" stroke=\"black\" d=\"M1223,-187C1223,-187 1086,-187 1086,-187 1080,-187 1074,-181 1074,-175 1074,-175 1074,-116 1074,-116 1074,-110 1080,-104 1086,-104 1086,-104 1223,-104 1223,-104 1229,-104 1235,-110 1235,-116 1235,-116 1235,-175 1235,-175 1235,-181 1229,-187 1223,-187\"/>\n<text text-anchor=\"middle\" x=\"1154.5\" y=\"-171.8\" font-family=\"Helvetica,sans-Serif\" font-size=\"14.00\">age &lt;= 53.5</text>\n<text text-anchor=\"middle\" x=\"1154.5\" y=\"-156.8\" font-family=\"Helvetica,sans-Serif\" font-size=\"14.00\">gini = 0.496</text>\n<text text-anchor=\"middle\" x=\"1154.5\" y=\"-141.8\" font-family=\"Helvetica,sans-Serif\" font-size=\"14.00\">samples = 44</text>\n<text text-anchor=\"middle\" x=\"1154.5\" y=\"-126.8\" font-family=\"Helvetica,sans-Serif\" font-size=\"14.00\">value = [24, 20]</text>\n<text text-anchor=\"middle\" x=\"1154.5\" y=\"-111.8\" font-family=\"Helvetica,sans-Serif\" font-size=\"14.00\">class = No Diabetes</text>\n</g>\n<!-- 15&#45;&gt;17 -->\n<g id=\"edge17\" class=\"edge\"><title>15&#45;&gt;17</title>\n<path fill=\"none\" stroke=\"black\" d=\"M1037.6,-222.907C1052.6,-213.106 1068.73,-202.563 1084.07,-192.533\"/>\n<polygon fill=\"black\" stroke=\"black\" points=\"1086.05,-195.422 1092.51,-187.021 1082.22,-189.562 1086.05,-195.422\"/>\n</g>\n<!-- 18 -->\n<g id=\"node19\" class=\"node\"><title>18</title>\n<path fill=\"#399de5\" fill-opacity=\"0.333333\" stroke=\"black\" d=\"M1199,-68C1199,-68 1086,-68 1086,-68 1080,-68 1074,-62 1074,-56 1074,-56 1074,-12 1074,-12 1074,-6 1080,-0 1086,-0 1086,-0 1199,-0 1199,-0 1205,-0 1211,-6 1211,-12 1211,-12 1211,-56 1211,-56 1211,-62 1205,-68 1199,-68\"/>\n<text text-anchor=\"middle\" x=\"1142.5\" y=\"-52.8\" font-family=\"Helvetica,sans-Serif\" font-size=\"14.00\">gini = 0.48</text>\n<text text-anchor=\"middle\" x=\"1142.5\" y=\"-37.8\" font-family=\"Helvetica,sans-Serif\" font-size=\"14.00\">samples = 30</text>\n<text text-anchor=\"middle\" x=\"1142.5\" y=\"-22.8\" font-family=\"Helvetica,sans-Serif\" font-size=\"14.00\">value = [12, 18]</text>\n<text text-anchor=\"middle\" x=\"1142.5\" y=\"-7.8\" font-family=\"Helvetica,sans-Serif\" font-size=\"14.00\">class = Diabetes</text>\n</g>\n<!-- 17&#45;&gt;18 -->\n<g id=\"edge18\" class=\"edge\"><title>17&#45;&gt;18</title>\n<path fill=\"none\" stroke=\"black\" d=\"M1150.03,-103.726C1149.12,-95.4263 1148.16,-86.6671 1147.24,-78.2834\"/>\n<polygon fill=\"black\" stroke=\"black\" points=\"1150.72,-77.8588 1146.15,-68.2996 1143.76,-78.6214 1150.72,-77.8588\"/>\n</g>\n<!-- 19 -->\n<g id=\"node20\" class=\"node\"><title>19</title>\n<path fill=\"#e58139\" fill-opacity=\"0.831373\" stroke=\"black\" d=\"M1378,-68C1378,-68 1241,-68 1241,-68 1235,-68 1229,-62 1229,-56 1229,-56 1229,-12 1229,-12 1229,-6 1235,-0 1241,-0 1241,-0 1378,-0 1378,-0 1384,-0 1390,-6 1390,-12 1390,-12 1390,-56 1390,-56 1390,-62 1384,-68 1378,-68\"/>\n<text text-anchor=\"middle\" x=\"1309.5\" y=\"-52.8\" font-family=\"Helvetica,sans-Serif\" font-size=\"14.00\">gini = 0.245</text>\n<text text-anchor=\"middle\" x=\"1309.5\" y=\"-37.8\" font-family=\"Helvetica,sans-Serif\" font-size=\"14.00\">samples = 14</text>\n<text text-anchor=\"middle\" x=\"1309.5\" y=\"-22.8\" font-family=\"Helvetica,sans-Serif\" font-size=\"14.00\">value = [12, 2]</text>\n<text text-anchor=\"middle\" x=\"1309.5\" y=\"-7.8\" font-family=\"Helvetica,sans-Serif\" font-size=\"14.00\">class = No Diabetes</text>\n</g>\n<!-- 17&#45;&gt;19 -->\n<g id=\"edge19\" class=\"edge\"><title>17&#45;&gt;19</title>\n<path fill=\"none\" stroke=\"black\" d=\"M1212.22,-103.726C1225.9,-94.0582 1240.47,-83.767 1254.05,-74.172\"/>\n<polygon fill=\"black\" stroke=\"black\" points=\"1256.22,-76.9282 1262.36,-68.2996 1252.18,-71.2109 1256.22,-76.9282\"/>\n</g>\n<!-- 21 -->\n<g id=\"node22\" class=\"node\"><title>21</title>\n<path fill=\"#399de5\" fill-opacity=\"0.325490\" stroke=\"black\" d=\"M1616,-187C1616,-187 1503,-187 1503,-187 1497,-187 1491,-181 1491,-175 1491,-175 1491,-116 1491,-116 1491,-110 1497,-104 1503,-104 1503,-104 1616,-104 1616,-104 1622,-104 1628,-110 1628,-116 1628,-116 1628,-175 1628,-175 1628,-181 1622,-187 1616,-187\"/>\n<text text-anchor=\"middle\" x=\"1559.5\" y=\"-171.8\" font-family=\"Helvetica,sans-Serif\" font-size=\"14.00\">test &lt;= 260.0</text>\n<text text-anchor=\"middle\" x=\"1559.5\" y=\"-156.8\" font-family=\"Helvetica,sans-Serif\" font-size=\"14.00\">gini = 0.481</text>\n<text text-anchor=\"middle\" x=\"1559.5\" y=\"-141.8\" font-family=\"Helvetica,sans-Serif\" font-size=\"14.00\">samples = 87</text>\n<text text-anchor=\"middle\" x=\"1559.5\" y=\"-126.8\" font-family=\"Helvetica,sans-Serif\" font-size=\"14.00\">value = [35, 52]</text>\n<text text-anchor=\"middle\" x=\"1559.5\" y=\"-111.8\" font-family=\"Helvetica,sans-Serif\" font-size=\"14.00\">class = Diabetes</text>\n</g>\n<!-- 20&#45;&gt;21 -->\n<g id=\"edge21\" class=\"edge\"><title>20&#45;&gt;21</title>\n<path fill=\"none\" stroke=\"black\" d=\"M1559.5,-222.907C1559.5,-214.649 1559.5,-205.864 1559.5,-197.302\"/>\n<polygon fill=\"black\" stroke=\"black\" points=\"1563,-197.021 1559.5,-187.021 1556,-197.021 1563,-197.021\"/>\n</g>\n<!-- 24 -->\n<g id=\"node25\" class=\"node\"><title>24</title>\n<path fill=\"#399de5\" fill-opacity=\"0.819608\" stroke=\"black\" d=\"M1867,-187C1867,-187 1754,-187 1754,-187 1748,-187 1742,-181 1742,-175 1742,-175 1742,-116 1742,-116 1742,-110 1748,-104 1754,-104 1754,-104 1867,-104 1867,-104 1873,-104 1879,-110 1879,-116 1879,-116 1879,-175 1879,-175 1879,-181 1873,-187 1867,-187\"/>\n<text text-anchor=\"middle\" x=\"1810.5\" y=\"-171.8\" font-family=\"Helvetica,sans-Serif\" font-size=\"14.00\">test &lt;= 611.5</text>\n<text text-anchor=\"middle\" x=\"1810.5\" y=\"-156.8\" font-family=\"Helvetica,sans-Serif\" font-size=\"14.00\">gini = 0.26</text>\n<text text-anchor=\"middle\" x=\"1810.5\" y=\"-141.8\" font-family=\"Helvetica,sans-Serif\" font-size=\"14.00\">samples = 78</text>\n<text text-anchor=\"middle\" x=\"1810.5\" y=\"-126.8\" font-family=\"Helvetica,sans-Serif\" font-size=\"14.00\">value = [12, 66]</text>\n<text text-anchor=\"middle\" x=\"1810.5\" y=\"-111.8\" font-family=\"Helvetica,sans-Serif\" font-size=\"14.00\">class = Diabetes</text>\n</g>\n<!-- 20&#45;&gt;24 -->\n<g id=\"edge24\" class=\"edge\"><title>20&#45;&gt;24</title>\n<path fill=\"none\" stroke=\"black\" d=\"M1630.09,-230.598C1662.03,-215.708 1699.88,-198.064 1732.65,-182.791\"/>\n<polygon fill=\"black\" stroke=\"black\" points=\"1734.16,-185.947 1741.74,-178.55 1731.2,-179.603 1734.16,-185.947\"/>\n</g>\n<!-- 22 -->\n<g id=\"node23\" class=\"node\"><title>22</title>\n<path fill=\"#399de5\" fill-opacity=\"0.490196\" stroke=\"black\" d=\"M1533,-68C1533,-68 1420,-68 1420,-68 1414,-68 1408,-62 1408,-56 1408,-56 1408,-12 1408,-12 1408,-6 1414,-0 1420,-0 1420,-0 1533,-0 1533,-0 1539,-0 1545,-6 1545,-12 1545,-12 1545,-56 1545,-56 1545,-62 1539,-68 1533,-68\"/>\n<text text-anchor=\"middle\" x=\"1476.5\" y=\"-52.8\" font-family=\"Helvetica,sans-Serif\" font-size=\"14.00\">gini = 0.447</text>\n<text text-anchor=\"middle\" x=\"1476.5\" y=\"-37.8\" font-family=\"Helvetica,sans-Serif\" font-size=\"14.00\">samples = 77</text>\n<text text-anchor=\"middle\" x=\"1476.5\" y=\"-22.8\" font-family=\"Helvetica,sans-Serif\" font-size=\"14.00\">value = [26, 51]</text>\n<text text-anchor=\"middle\" x=\"1476.5\" y=\"-7.8\" font-family=\"Helvetica,sans-Serif\" font-size=\"14.00\">class = Diabetes</text>\n</g>\n<!-- 21&#45;&gt;22 -->\n<g id=\"edge22\" class=\"edge\"><title>21&#45;&gt;22</title>\n<path fill=\"none\" stroke=\"black\" d=\"M1528.59,-103.726C1521.82,-94.7878 1514.64,-85.3168 1507.85,-76.3558\"/>\n<polygon fill=\"black\" stroke=\"black\" points=\"1510.57,-74.1547 1501.74,-68.2996 1504.99,-78.3832 1510.57,-74.1547\"/>\n</g>\n<!-- 23 -->\n<g id=\"node24\" class=\"node\"><title>23</title>\n<path fill=\"#e58139\" fill-opacity=\"0.890196\" stroke=\"black\" d=\"M1712,-68C1712,-68 1575,-68 1575,-68 1569,-68 1563,-62 1563,-56 1563,-56 1563,-12 1563,-12 1563,-6 1569,-0 1575,-0 1575,-0 1712,-0 1712,-0 1718,-0 1724,-6 1724,-12 1724,-12 1724,-56 1724,-56 1724,-62 1718,-68 1712,-68\"/>\n<text text-anchor=\"middle\" x=\"1643.5\" y=\"-52.8\" font-family=\"Helvetica,sans-Serif\" font-size=\"14.00\">gini = 0.18</text>\n<text text-anchor=\"middle\" x=\"1643.5\" y=\"-37.8\" font-family=\"Helvetica,sans-Serif\" font-size=\"14.00\">samples = 10</text>\n<text text-anchor=\"middle\" x=\"1643.5\" y=\"-22.8\" font-family=\"Helvetica,sans-Serif\" font-size=\"14.00\">value = [9, 1]</text>\n<text text-anchor=\"middle\" x=\"1643.5\" y=\"-7.8\" font-family=\"Helvetica,sans-Serif\" font-size=\"14.00\">class = No Diabetes</text>\n</g>\n<!-- 21&#45;&gt;23 -->\n<g id=\"edge23\" class=\"edge\"><title>21&#45;&gt;23</title>\n<path fill=\"none\" stroke=\"black\" d=\"M1590.78,-103.726C1597.64,-94.7878 1604.9,-85.3168 1611.78,-76.3558\"/>\n<polygon fill=\"black\" stroke=\"black\" points=\"1614.65,-78.3643 1617.96,-68.2996 1609.09,-74.1036 1614.65,-78.3643\"/>\n</g>\n<!-- 25 -->\n<g id=\"node26\" class=\"node\"><title>25</title>\n<path fill=\"#399de5\" fill-opacity=\"0.847059\" stroke=\"black\" d=\"M1867,-68C1867,-68 1754,-68 1754,-68 1748,-68 1742,-62 1742,-56 1742,-56 1742,-12 1742,-12 1742,-6 1748,-0 1754,-0 1754,-0 1867,-0 1867,-0 1873,-0 1879,-6 1879,-12 1879,-12 1879,-56 1879,-56 1879,-62 1873,-68 1867,-68\"/>\n<text text-anchor=\"middle\" x=\"1810.5\" y=\"-52.8\" font-family=\"Helvetica,sans-Serif\" font-size=\"14.00\">gini = 0.231</text>\n<text text-anchor=\"middle\" x=\"1810.5\" y=\"-37.8\" font-family=\"Helvetica,sans-Serif\" font-size=\"14.00\">samples = 75</text>\n<text text-anchor=\"middle\" x=\"1810.5\" y=\"-22.8\" font-family=\"Helvetica,sans-Serif\" font-size=\"14.00\">value = [10, 65]</text>\n<text text-anchor=\"middle\" x=\"1810.5\" y=\"-7.8\" font-family=\"Helvetica,sans-Serif\" font-size=\"14.00\">class = Diabetes</text>\n</g>\n<!-- 24&#45;&gt;25 -->\n<g id=\"edge25\" class=\"edge\"><title>24&#45;&gt;25</title>\n<path fill=\"none\" stroke=\"black\" d=\"M1810.5,-103.726C1810.5,-95.5175 1810.5,-86.8595 1810.5,-78.56\"/>\n<polygon fill=\"black\" stroke=\"black\" points=\"1814,-78.2996 1810.5,-68.2996 1807,-78.2996 1814,-78.2996\"/>\n</g>\n<!-- 26 -->\n<g id=\"node27\" class=\"node\"><title>26</title>\n<path fill=\"#e58139\" fill-opacity=\"0.498039\" stroke=\"black\" d=\"M2046,-68C2046,-68 1909,-68 1909,-68 1903,-68 1897,-62 1897,-56 1897,-56 1897,-12 1897,-12 1897,-6 1903,-0 1909,-0 1909,-0 2046,-0 2046,-0 2052,-0 2058,-6 2058,-12 2058,-12 2058,-56 2058,-56 2058,-62 2052,-68 2046,-68\"/>\n<text text-anchor=\"middle\" x=\"1977.5\" y=\"-52.8\" font-family=\"Helvetica,sans-Serif\" font-size=\"14.00\">gini = 0.444</text>\n<text text-anchor=\"middle\" x=\"1977.5\" y=\"-37.8\" font-family=\"Helvetica,sans-Serif\" font-size=\"14.00\">samples = 3</text>\n<text text-anchor=\"middle\" x=\"1977.5\" y=\"-22.8\" font-family=\"Helvetica,sans-Serif\" font-size=\"14.00\">value = [2, 1]</text>\n<text text-anchor=\"middle\" x=\"1977.5\" y=\"-7.8\" font-family=\"Helvetica,sans-Serif\" font-size=\"14.00\">class = No Diabetes</text>\n</g>\n<!-- 24&#45;&gt;26 -->\n<g id=\"edge26\" class=\"edge\"><title>24&#45;&gt;26</title>\n<path fill=\"none\" stroke=\"black\" d=\"M1872.68,-103.726C1887.65,-93.9161 1903.59,-83.4644 1918.4,-73.7496\"/>\n<polygon fill=\"black\" stroke=\"black\" points=\"1920.54,-76.5355 1926.98,-68.1252 1916.7,-70.6816 1920.54,-76.5355\"/>\n</g>\n</g>\n</svg>\n"
          },
          "metadata": {
            "tags": []
          },
          "execution_count": 115
        }
      ]
    },
    {
      "metadata": {
        "id": "4iz4meWDVmo2",
        "colab_type": "text"
      },
      "cell_type": "markdown",
      "source": [
        "#### Use the graph above to answer the questions below"
      ]
    },
    {
      "metadata": {
        "id": "K5b6COUwWTtT",
        "colab_type": "text"
      },
      "cell_type": "markdown",
      "source": [
        "Question 1: If you add up the samples from the leaf nodes, how many samples are there?"
      ]
    },
    {
      "metadata": {
        "id": "B17z-Gw5WUCW",
        "colab_type": "text"
      },
      "cell_type": "markdown",
      "source": [
        "575"
      ]
    },
    {
      "metadata": {
        "id": "u1yM9h10WUEv",
        "colab_type": "text"
      },
      "cell_type": "markdown",
      "source": [
        "Question 2: What do you think X[n] represents in the nodes from the graph? <br>"
      ]
    },
    {
      "metadata": {
        "id": "BXHWUVxtWUGo",
        "colab_type": "text"
      },
      "cell_type": "markdown",
      "source": [
        "it represents the nth feature"
      ]
    },
    {
      "metadata": {
        "id": "rA7B0oTaWUIe",
        "colab_type": "text"
      },
      "cell_type": "markdown",
      "source": [
        "Question 3: What is the root feature? Does it make sense as the root feature?"
      ]
    },
    {
      "metadata": {
        "id": "fp1rz6bqWUKw",
        "colab_type": "text"
      },
      "cell_type": "markdown",
      "source": [
        "plasma glucose concentration, which makes sense (blood sugar level)\n"
      ]
    },
    {
      "metadata": {
        "id": "1t559pS3ZHES",
        "colab_type": "text"
      },
      "cell_type": "markdown",
      "source": [
        "#### If you were to change the parameters to have a max_depth of 500 and min_samples_leaf of 1, what do you think the effect would be on the test accuracy? Training accuracy?"
      ]
    },
    {
      "metadata": {
        "id": "mX6-ukjxakVD",
        "colab_type": "text"
      },
      "cell_type": "markdown",
      "source": [
        "it would increase the training accuracy but drastically decrease the test"
      ]
    },
    {
      "metadata": {
        "id": "7dnlqId2bIcR",
        "colab_type": "text"
      },
      "cell_type": "markdown",
      "source": [
        "#### Test your guesses, create a model with max_depth=500 and min_samples_leaf=1, and predict values for the training and test data <br>\n",
        "you only need to predict part of the training data"
      ]
    },
    {
      "metadata": {
        "id": "hnUQKX9vl9Gy",
        "colab_type": "code",
        "colab": {
          "base_uri": "https://localhost:8080/",
          "height": 50
        },
        "outputId": "f0a04b6c-ebf1-465d-f3d1-c9b73e66ece4"
      },
      "cell_type": "code",
      "source": [
        "# your code here\n",
        "\n",
        "# your code here\n",
        "clf2 = DecisionTreeClassifier(criterion=\"gini\", max_depth=500, min_samples_leaf=1, random_state=0)\n",
        "clf2.fit(X_train, y_train)\n",
        "y_pred2 = clf2.predict(X_train)\n",
        "#print(y_pred)\n",
        "print(accuracy_score(y_train, y_pred2))\n",
        "y_pred_test = clf2.predict(X_test)\n",
        "print(accuracy_score(y_test, y_pred_test))\n"
      ],
      "execution_count": 112,
      "outputs": [
        {
          "output_type": "stream",
          "text": [
            "1.0\n",
            "0.71875\n"
          ],
          "name": "stdout"
        }
      ]
    },
    {
      "metadata": {
        "id": "40Psyt65pD8p",
        "colab_type": "text"
      },
      "cell_type": "markdown",
      "source": [
        "# Random Forest"
      ]
    },
    {
      "metadata": {
        "id": "mjLu1MLIpGNF",
        "colab_type": "text"
      },
      "cell_type": "markdown",
      "source": [
        "#### Create a model with sklearn's RandomForestClassifier and predict values on your test set"
      ]
    },
    {
      "metadata": {
        "id": "TYwbpWxUfDIY",
        "colab_type": "code",
        "colab": {}
      },
      "cell_type": "code",
      "source": [
        "# your code here \n",
        "rf = RandomForestClassifier(n_estimators=9, criterion='gini', max_depth=4, random_state=0)\n",
        "rf.fit(X_train, y_train)\n",
        "y_pred_rf = rf.predict(X_test)"
      ],
      "execution_count": 0,
      "outputs": []
    },
    {
      "metadata": {
        "id": "6Ys_J3O4pd0u",
        "colab_type": "text"
      },
      "cell_type": "markdown",
      "source": [
        "#### Print the accuracy on the test data, play with the parameters and try to improve the accuracy<br>\n",
        "how did the accuracy compare to the decision tree's accuracy?<br>"
      ]
    },
    {
      "metadata": {
        "id": "aQdfjEWdfDOH",
        "colab_type": "code",
        "colab": {
          "base_uri": "https://localhost:8080/",
          "height": 34
        },
        "outputId": "485318c6-689c-4bac-b35f-043d4da1e667"
      },
      "cell_type": "code",
      "source": [
        "# your code here\n",
        "accuracy_score(y_test, y_pred_rf) # better than decision tree (77 > 70)"
      ],
      "execution_count": 99,
      "outputs": [
        {
          "output_type": "execute_result",
          "data": {
            "text/plain": [
              "0.7760416666666666"
            ]
          },
          "metadata": {
            "tags": []
          },
          "execution_count": 99
        }
      ]
    },
    {
      "metadata": {
        "id": "jGlSHxuUqAnX",
        "colab_type": "text"
      },
      "cell_type": "markdown",
      "source": [
        "#### Print the 3 most important features<br>\n",
        "hint: sklearn has an attribute to help you find these "
      ]
    },
    {
      "metadata": {
        "id": "5rVekWn0qw3r",
        "colab_type": "code",
        "colab": {
          "base_uri": "https://localhost:8080/",
          "height": 101
        },
        "outputId": "d52d5c9c-111e-4513-e087-4771590841ca"
      },
      "cell_type": "code",
      "source": [
        "# your code here\n",
        "important = list(rf.feature_importances_)\n",
        "print(rf.feature_importances_)\n",
        "for i in range(3):\n",
        "  print(names[list(important).index(max(important))])\n",
        "  del important[list(important).index(max(important))]"
      ],
      "execution_count": 110,
      "outputs": [
        {
          "output_type": "stream",
          "text": [
            "[0.051243   0.29777253 0.03253638 0.04082901 0.04074305 0.22184828\n",
            " 0.12562195 0.18940579]\n",
            "plas\n",
            "test\n",
            "mass\n"
          ],
          "name": "stdout"
        }
      ]
    },
    {
      "metadata": {
        "id": "lynu8pLDtd0S",
        "colab_type": "text"
      },
      "cell_type": "markdown",
      "source": [
        "#### Find the accuracy for random forests with 1 to 100 trees, counting by 5. Plot these accuracies"
      ]
    },
    {
      "metadata": {
        "id": "e2hG7npcuM7f",
        "colab_type": "code",
        "colab": {
          "base_uri": "https://localhost:8080/",
          "height": 353
        },
        "outputId": "d847f679-2cca-413e-9409-242107e85b62"
      },
      "cell_type": "code",
      "source": [
        "for i in range(1, 100, 5):\n",
        "  rf = RandomForestClassifier(n_estimators=i, criterion='gini', max_depth=4, random_state=0)\n",
        "  rf.fit(X_train, y_train)\n",
        "  y_pred_rf = rf.predict(X_test)\n",
        "  print(accuracy_score(y_test, y_pred_rf))"
      ],
      "execution_count": 111,
      "outputs": [
        {
          "output_type": "stream",
          "text": [
            "0.6614583333333334\n",
            "0.7916666666666666\n",
            "0.78125\n",
            "0.796875\n",
            "0.8020833333333334\n",
            "0.8020833333333334\n",
            "0.796875\n",
            "0.796875\n",
            "0.8020833333333334\n",
            "0.796875\n",
            "0.796875\n",
            "0.7916666666666666\n",
            "0.7916666666666666\n",
            "0.7916666666666666\n",
            "0.796875\n",
            "0.796875\n",
            "0.796875\n",
            "0.8020833333333334\n",
            "0.8125\n",
            "0.796875\n"
          ],
          "name": "stdout"
        }
      ]
    },
    {
      "metadata": {
        "id": "ZjaVPWZqVP6l",
        "colab_type": "text"
      },
      "cell_type": "markdown",
      "source": [
        "#### Plot the roc_curve using predict_proba a function for our random forest model, and metrics. roc_curve <br>\n",
        "It might help to google these functions and look at sklearn's documentation"
      ]
    },
    {
      "metadata": {
        "id": "REk_yvdTfDa3",
        "colab_type": "code",
        "colab": {}
      },
      "cell_type": "code",
      "source": [
        "# your code here"
      ],
      "execution_count": 0,
      "outputs": []
    },
    {
      "metadata": {
        "id": "YAml_sdbYqIm",
        "colab_type": "text"
      },
      "cell_type": "markdown",
      "source": [
        "#### To view the trees in the random_forest you can loop through your model's '.estimators_\" attribute <br>\n",
        "If you have time look at pictures of the trees"
      ]
    },
    {
      "metadata": {
        "id": "k5pacJabuKXx",
        "colab_type": "code",
        "colab": {
          "base_uri": "https://localhost:8080/",
          "height": 178
        },
        "outputId": "3d6f64ce-43dd-4bce-b6bf-a0f5cfde1bf6"
      },
      "cell_type": "code",
      "source": [
        "# your code here\n",
        "for tr in random_forest_estimators_:\n",
        "  break"
      ],
      "execution_count": 121,
      "outputs": [
        {
          "output_type": "error",
          "ename": "NameError",
          "evalue": "ignored",
          "traceback": [
            "\u001b[0;31m---------------------------------------------------------------------------\u001b[0m",
            "\u001b[0;31mNameError\u001b[0m                                 Traceback (most recent call last)",
            "\u001b[0;32m<ipython-input-121-5bb9362297b9>\u001b[0m in \u001b[0;36m<module>\u001b[0;34m()\u001b[0m\n\u001b[0;32m----> 1\u001b[0;31m \u001b[0;32mfor\u001b[0m \u001b[0mtr\u001b[0m \u001b[0;32min\u001b[0m \u001b[0mrandom_forest_estimators_\u001b[0m\u001b[0;34m:\u001b[0m\u001b[0;34m\u001b[0m\u001b[0m\n\u001b[0m\u001b[1;32m      2\u001b[0m   \u001b[0;32mbreak\u001b[0m\u001b[0;34m\u001b[0m\u001b[0m\n",
            "\u001b[0;31mNameError\u001b[0m: name 'random_forest_estimators_' is not defined"
          ]
        }
      ]
    }
  ]
}