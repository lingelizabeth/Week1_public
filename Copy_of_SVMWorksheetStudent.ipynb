{
  "nbformat": 4,
  "nbformat_minor": 0,
  "metadata": {
    "colab": {
      "name": "Copy of SVMWorksheetStudent",
      "version": "0.3.2",
      "provenance": [],
      "collapsed_sections": [],
      "include_colab_link": true
    },
    "kernelspec": {
      "name": "python3",
      "display_name": "Python 3"
    }
  },
  "cells": [
    {
      "cell_type": "markdown",
      "metadata": {
        "id": "view-in-github",
        "colab_type": "text"
      },
      "source": [
        "[View in Colaboratory](https://colab.research.google.com/github/lingelizabeth/Week1_public/blob/master/Copy_of_SVMWorksheetStudent.ipynb)"
      ]
    },
    {
      "metadata": {
        "id": "-UimMCmGe19F",
        "colab_type": "text"
      },
      "cell_type": "markdown",
      "source": [
        "# SVM Tree Worksheet"
      ]
    },
    {
      "metadata": {
        "id": "kedW02LgKjVL",
        "colab_type": "code",
        "colab": {}
      },
      "cell_type": "code",
      "source": [
        "import numpy as np\n",
        "import pandas as pd\n",
        "from sklearn.model_selection import train_test_split\n",
        "import matplotlib.pyplot as plt\n",
        "from sklearn import svm\n",
        "from sklearn.metrics import accuracy_score\n",
        "from sklearn.svm import SVC # \"Support vector classifier\"\n",
        "from sklearn.model_selection import GridSearchCV\n",
        "from sklearn.ensemble import RandomForestClassifier"
      ],
      "execution_count": 0,
      "outputs": []
    },
    {
      "metadata": {
        "id": "rz35eT5-SMht",
        "colab_type": "text"
      },
      "cell_type": "markdown",
      "source": [
        "#### Load pima indians diabetes dataset below"
      ]
    },
    {
      "metadata": {
        "id": "Ydh9gmDkMGmu",
        "colab_type": "code",
        "colab": {}
      },
      "cell_type": "code",
      "source": [
        "url = \"https://raw.githubusercontent.com/jbrownlee/Datasets/master/pima-indians-diabetes.data.csv\"\n",
        "names = ['preg', 'plas', 'pres', 'skin', 'test', 'mass', 'pedi', 'age', 'class']\n",
        "# your code here\n",
        "data = pd.read_csv(url, names=names)"
      ],
      "execution_count": 0,
      "outputs": []
    },
    {
      "metadata": {
        "id": "OVd3yPrQ3LDG",
        "colab_type": "text"
      },
      "cell_type": "markdown",
      "source": [
        "#### Split data into test and train set with the test_size being 25 %"
      ]
    },
    {
      "metadata": {
        "id": "kOR7RCrf5P_k",
        "colab_type": "code",
        "colab": {}
      },
      "cell_type": "code",
      "source": [
        "# your code here\n",
        "X = data.drop('class', axis=1)\n",
        "y = data['class']\n",
        "X_train, X_test, y_train, y_test = train_test_split(X, y, test_size=.25, random_state =0)"
      ],
      "execution_count": 0,
      "outputs": []
    },
    {
      "metadata": {
        "id": "v7lQh69N3YR3",
        "colab_type": "text"
      },
      "cell_type": "markdown",
      "source": [
        "#### Create a model with sklearn's SVC and a high gamma value (perhaps 1.0)"
      ]
    },
    {
      "metadata": {
        "id": "9rYQecrQ8yjn",
        "colab_type": "code",
        "colab": {
          "base_uri": "https://localhost:8080/",
          "height": 84
        },
        "outputId": "1ffcd631-ee57-471a-d71e-927f20e00ea5"
      },
      "cell_type": "code",
      "source": [
        "# your code here\n",
        "svc = SVC(kernel='rbf', gamma=1.0)\n",
        "svc.fit(X_train, y_train)\n",
        "svc"
      ],
      "execution_count": 66,
      "outputs": [
        {
          "output_type": "execute_result",
          "data": {
            "text/plain": [
              "SVC(C=1.0, cache_size=200, class_weight=None, coef0=0.0,\n",
              "  decision_function_shape='ovr', degree=3, gamma=1.0, kernel='rbf',\n",
              "  max_iter=-1, probability=False, random_state=None, shrinking=True,\n",
              "  tol=0.001, verbose=False)"
            ]
          },
          "metadata": {
            "tags": []
          },
          "execution_count": 66
        }
      ]
    },
    {
      "metadata": {
        "id": "qdiqjUje4ll-",
        "colab_type": "text"
      },
      "cell_type": "markdown",
      "source": [
        "#### Print accuracy of test data and training data (the model should be trained/'fit' on the training data)"
      ]
    },
    {
      "metadata": {
        "id": "O5LqepHk9S0M",
        "colab_type": "code",
        "colab": {
          "base_uri": "https://localhost:8080/",
          "height": 50
        },
        "outputId": "aa326c74-4f1f-49e2-d322-220478ee23b9"
      },
      "cell_type": "code",
      "source": [
        "# your code here\n",
        "y_pred = svc.predict(X_train)\n",
        "print(\"training data \"+str(accuracy_score(y_train, y_pred)))\n",
        "y_pred = svc.predict(X_test)\n",
        "print(\"test data \",accuracy_score(y_test, y_pred))"
      ],
      "execution_count": 67,
      "outputs": [
        {
          "output_type": "stream",
          "text": [
            "training data 1.0\n",
            "test data  0.6770833333333334\n"
          ],
          "name": "stdout"
        }
      ]
    },
    {
      "metadata": {
        "id": "fC7VlLtI3ZjQ",
        "colab_type": "text"
      },
      "cell_type": "markdown",
      "source": [
        "#### Create a model with sklearn's SVC and a low gamma value (perhaps .001)"
      ]
    },
    {
      "metadata": {
        "id": "3vVHnWuY9pFN",
        "colab_type": "code",
        "colab": {}
      },
      "cell_type": "code",
      "source": [
        "clf = SVC(kernel='rbf', gamma = .001)\n",
        "clf.fit(X_train, y_train)\n",
        "y_pred_train = clf.predict(X_train)\n",
        "y_pred_test = clf.predict(X_test)"
      ],
      "execution_count": 0,
      "outputs": []
    },
    {
      "metadata": {
        "id": "JQB-U50H4mIx",
        "colab_type": "text"
      },
      "cell_type": "markdown",
      "source": [
        "#### Print accuracy of training data and test data"
      ]
    },
    {
      "metadata": {
        "id": "tr4DGB309s9a",
        "colab_type": "code",
        "colab": {
          "base_uri": "https://localhost:8080/",
          "height": 50
        },
        "outputId": "be6656ef-71d8-4527-8b77-f1a71a40a522"
      },
      "cell_type": "code",
      "source": [
        "# your code here\n",
        "print(accuracy_score(y_train, y_pred_train))\n",
        "print(accuracy_score(y_test, y_pred_test))"
      ],
      "execution_count": 70,
      "outputs": [
        {
          "output_type": "stream",
          "text": [
            "0.8402777777777778\n",
            "0.7552083333333334\n"
          ],
          "name": "stdout"
        }
      ]
    },
    {
      "metadata": {
        "id": "TA9xLHAEIKXY",
        "colab_type": "text"
      },
      "cell_type": "markdown",
      "source": [
        "##### Explain the accuracy results below. "
      ]
    },
    {
      "metadata": {
        "id": "fE_bPc2KISFi",
        "colab_type": "text"
      },
      "cell_type": "markdown",
      "source": [
        "lower gamma means higher margin around each data point ?"
      ]
    },
    {
      "metadata": {
        "id": "Lv21xang3ZAa",
        "colab_type": "text"
      },
      "cell_type": "markdown",
      "source": [
        "## GridSearchCV\n",
        "\n",
        "There are several parameters to tune. Instead of tuning the parameters one by one, GridSearchCV does an exhaustive search over provided parameters. <br><br>"
      ]
    },
    {
      "metadata": {
        "id": "gr2EOA2LYvoF",
        "colab_type": "text"
      },
      "cell_type": "markdown",
      "source": [
        "###Use gamma, C and decision_function_shape as parameters and GridSearchCV to find the best parameters with kernel='rbf'<br>\n",
        "Don't know what decision_function_shape is, look at the SVC documentation <br>\n",
        "Don't know how to use GridSearchCV, google it!<br><br>"
      ]
    },
    {
      "metadata": {
        "id": "zmjogZlyMVMf",
        "colab_type": "code",
        "colab": {
          "base_uri": "https://localhost:8080/",
          "height": 34
        },
        "outputId": "68e72ee3-e985-4043-bc21-330c337df9dd"
      },
      "cell_type": "code",
      "source": [
        "\n",
        "# your code here\n",
        "svc = svm.SVC()\n",
        "parameters = {'decision_function_shape':('ovr', 'ovo'), 'C':[0.0001, 0.001, 0.8, 0.9, 1, 1.1], 'gamma':[0.00001, 0.0001, 0.001, .01]}\n",
        "clf = GridSearchCV(svc, parameters)\n",
        "clf.fit(X_train, y_train)\n",
        "#sorted(clf.cv_results_.keys())\n",
        "clf.best_params_"
      ],
      "execution_count": 117,
      "outputs": [
        {
          "output_type": "execute_result",
          "data": {
            "text/plain": [
              "{'C': 0.9, 'decision_function_shape': 'ovr', 'gamma': 0.0001}"
            ]
          },
          "metadata": {
            "tags": []
          },
          "execution_count": 117
        }
      ]
    },
    {
      "metadata": {
        "id": "Yfyho8h_Y9_t",
        "colab_type": "text"
      },
      "cell_type": "markdown",
      "source": [
        "### Using the optimal parameters you found, print the accuracy"
      ]
    },
    {
      "metadata": {
        "id": "7p0actkaMxb9",
        "colab_type": "code",
        "colab": {
          "base_uri": "https://localhost:8080/",
          "height": 34
        },
        "outputId": "48154a7f-f108-4b33-aaf2-c8a8947b9c0a"
      },
      "cell_type": "code",
      "source": [
        "# your code here\n",
        "svc.set_params(C=0.9, decision_function_shape='ovr', gamma = .0001)\n",
        "svc.fit(X_train, y_train)\n",
        "y_pred_g = svc.predict(X_test)\n",
        "accuracy_score(y_test, y_pred_g)"
      ],
      "execution_count": 113,
      "outputs": [
        {
          "output_type": "execute_result",
          "data": {
            "text/plain": [
              "0.7864583333333334"
            ]
          },
          "metadata": {
            "tags": []
          },
          "execution_count": 113
        }
      ]
    },
    {
      "metadata": {
        "id": "kfY6H6PO1vJD",
        "colab_type": "text"
      },
      "cell_type": "markdown",
      "source": [
        "### Create an ensemble that includes svm and random forest (use your code from the decision trees notebook)\n",
        "### Use predict_proba to get probabilities and decide a method to combine the predictions "
      ]
    },
    {
      "metadata": {
        "id": "PYbVYQgnOqpP",
        "colab_type": "code",
        "colab": {}
      },
      "cell_type": "code",
      "source": [
        "# your code here\n"
      ],
      "execution_count": 0,
      "outputs": []
    }
  ]
}