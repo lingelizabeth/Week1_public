{
  "nbformat": 4,
  "nbformat_minor": 0,
  "metadata": {
    "colab": {
      "name": "Pandas_Problem_Set.ipynb",
      "version": "0.3.2",
      "provenance": [],
      "collapsed_sections": [],
      "include_colab_link": true
    },
    "kernelspec": {
      "name": "python3",
      "display_name": "Python 3"
    }
  },
  "cells": [
    {
      "cell_type": "markdown",
      "metadata": {
        "id": "view-in-github",
        "colab_type": "text"
      },
      "source": [
        "[View in Colaboratory](https://colab.research.google.com/github/lingelizabeth/Week1_public/blob/master/Pandas_Problem_Set.ipynb)"
      ]
    },
    {
      "metadata": {
        "id": "bSU6eKZTdMXZ",
        "colab_type": "text"
      },
      "cell_type": "markdown",
      "source": [
        "# Pandas Problem Set"
      ]
    },
    {
      "metadata": {
        "id": "c5ewTg7vdQFm",
        "colab_type": "code",
        "colab": {}
      },
      "cell_type": "code",
      "source": [
        "import pandas as pd\n",
        "from google.colab import files\n",
        "import numpy as np\n",
        "import matplotlib.pyplot as plt"
      ],
      "execution_count": 0,
      "outputs": []
    },
    {
      "metadata": {
        "id": "MytzEzg-fyb7",
        "colab_type": "text"
      },
      "cell_type": "markdown",
      "source": [
        "### Dataset for tutorial and problem set:\n",
        "\n",
        "    Pima Indian Heritage Diabetes\n",
        "\n",
        "    Each person in the dataset is a female who is at least 21 years\n",
        "    \n",
        "  #### Below are the variables for each person in the dataset\n",
        "      'preg': number of pregnancies  \n",
        "      'plas': plasma glucose concentration \n",
        "      'pres': blood pressure \n",
        "      'skin': skin thickness\n",
        "      'test': Insluin\n",
        "      'mass': BMI\n",
        "      'pedi': diabetes pedigree function\n",
        "      'age': age\n",
        "      'class': '0' means does not have diabetes and '1' means has diabetes"
      ]
    },
    {
      "metadata": {
        "id": "F4btIg8vdSyb",
        "colab_type": "code",
        "colab": {}
      },
      "cell_type": "code",
      "source": [
        "url = \"https://raw.githubusercontent.com/jbrownlee/Datasets/master/pima-indians-diabetes.data.csv\"\n",
        "names = ['preg', 'plas', 'pres', 'skin', 'test', 'mass', 'pedi', 'age', 'class']"
      ],
      "execution_count": 0,
      "outputs": []
    },
    {
      "metadata": {
        "id": "QOLgFaSKeShR",
        "colab_type": "text"
      },
      "cell_type": "markdown",
      "source": [
        "Read in csv above to a pandas dataframe"
      ]
    },
    {
      "metadata": {
        "id": "Okcb8dnXeX2C",
        "colab_type": "code",
        "colab": {}
      },
      "cell_type": "code",
      "source": [
        "# your code here\n",
        "data = pd.read_csv(url, names=names)"
      ],
      "execution_count": 0,
      "outputs": []
    },
    {
      "metadata": {
        "id": "d4DyOsuoewE2",
        "colab_type": "text"
      },
      "cell_type": "markdown",
      "source": [
        "Print out the age and class of the 100th patient"
      ]
    },
    {
      "metadata": {
        "id": "xZqBsg39eY8_",
        "colab_type": "code",
        "colab": {
          "base_uri": "https://localhost:8080/",
          "height": 67
        },
        "outputId": "141d4754-4563-4746-d747-9cd96696955b"
      },
      "cell_type": "code",
      "source": [
        "# your code here\n",
        "#data.head()\n",
        "print(data.loc[100, 'age':'class'])"
      ],
      "execution_count": 102,
      "outputs": [
        {
          "output_type": "stream",
          "text": [
            "age      33.0\n",
            "class     1.0\n",
            "Name: 100, dtype: float64\n"
          ],
          "name": "stdout"
        }
      ]
    },
    {
      "metadata": {
        "id": "j8L2EM-5iOWc",
        "colab_type": "text"
      },
      "cell_type": "markdown",
      "source": [
        "Write code to figure out how many people are classified as not having diabetes, class is 1"
      ]
    },
    {
      "metadata": {
        "id": "vohzS51WiWvD",
        "colab_type": "code",
        "colab": {
          "base_uri": "https://localhost:8080/",
          "height": 34
        },
        "outputId": "e9b65214-2740-4fb7-a371-8abfd327f49d"
      },
      "cell_type": "code",
      "source": [
        "# your code here\n",
        "#print(data.loc[50:100, 'pedi':'class'])\n",
        "#diabetes_boolean = list(i for i in data['class'] if i > 0)\n",
        "diabetes_boolean = data[data['class'] > 0]\n",
        "print(len(diabetes_boolean))\n",
        "#print(diabetes_boolean)"
      ],
      "execution_count": 105,
      "outputs": [
        {
          "output_type": "stream",
          "text": [
            "268\n"
          ],
          "name": "stdout"
        }
      ]
    },
    {
      "metadata": {
        "id": "ieGRz4iiiX4E",
        "colab_type": "text"
      },
      "cell_type": "markdown",
      "source": [
        "Write code to figure out how many people are classified as having diabetes, class is 0"
      ]
    },
    {
      "metadata": {
        "id": "-jq2O-vriXRT",
        "colab_type": "code",
        "colab": {
          "base_uri": "https://localhost:8080/",
          "height": 34
        },
        "outputId": "315e1d4d-04c3-4fcb-d202-e341f8f6c6fa"
      },
      "cell_type": "code",
      "source": [
        "# your code here\n",
        "#diabetes_true = list(i for i in data['class'] if i < 1)\n",
        "diabetes_true = data[data['class'] < 1]\n",
        "print(len(diabetes_true))"
      ],
      "execution_count": 107,
      "outputs": [
        {
          "output_type": "stream",
          "text": [
            "500\n"
          ],
          "name": "stdout"
        }
      ]
    },
    {
      "metadata": {
        "id": "oeFT7T9OnuSd",
        "colab_type": "text"
      },
      "cell_type": "markdown",
      "source": [
        "What percent of people have diabetes in the study"
      ]
    },
    {
      "metadata": {
        "id": "zGGHptFYnwq0",
        "colab_type": "code",
        "colab": {
          "base_uri": "https://localhost:8080/",
          "height": 34
        },
        "outputId": "9342251d-9a08-49b5-b256-25589e956c52"
      },
      "cell_type": "code",
      "source": [
        "# your code here\n",
        "print(len(diabetes_true)/(len(diabetes_boolean) + len(diabetes_true)) *100)"
      ],
      "execution_count": 108,
      "outputs": [
        {
          "output_type": "stream",
          "text": [
            "65.10416666666666\n"
          ],
          "name": "stdout"
        }
      ]
    },
    {
      "metadata": {
        "id": "nbrjnRPafs0p",
        "colab_type": "text"
      },
      "cell_type": "markdown",
      "source": [
        "Print out the pressure and class (no other columns) for the first 5 people\n",
        "\n",
        "hint: this was not shown in our tutorial google how to select multiple columns with loc\n",
        "\n",
        "Being able to effectively google is a very important coding tool"
      ]
    },
    {
      "metadata": {
        "id": "GiNCJ19KfHJQ",
        "colab_type": "code",
        "colab": {
          "base_uri": "https://localhost:8080/",
          "height": 225
        },
        "outputId": "99a72faa-c6d5-42fe-cc73-67535d780ff9"
      },
      "cell_type": "code",
      "source": [
        "# your code here\n",
        "  data.loc[0:5, ['pres', 'class']]"
      ],
      "execution_count": 76,
      "outputs": [
        {
          "output_type": "execute_result",
          "data": {
            "text/html": [
              "<div>\n",
              "<style scoped>\n",
              "    .dataframe tbody tr th:only-of-type {\n",
              "        vertical-align: middle;\n",
              "    }\n",
              "\n",
              "    .dataframe tbody tr th {\n",
              "        vertical-align: top;\n",
              "    }\n",
              "\n",
              "    .dataframe thead th {\n",
              "        text-align: right;\n",
              "    }\n",
              "</style>\n",
              "<table border=\"1\" class=\"dataframe\">\n",
              "  <thead>\n",
              "    <tr style=\"text-align: right;\">\n",
              "      <th></th>\n",
              "      <th>pres</th>\n",
              "      <th>class</th>\n",
              "    </tr>\n",
              "  </thead>\n",
              "  <tbody>\n",
              "    <tr>\n",
              "      <th>0</th>\n",
              "      <td>72</td>\n",
              "      <td>1</td>\n",
              "    </tr>\n",
              "    <tr>\n",
              "      <th>1</th>\n",
              "      <td>66</td>\n",
              "      <td>0</td>\n",
              "    </tr>\n",
              "    <tr>\n",
              "      <th>2</th>\n",
              "      <td>64</td>\n",
              "      <td>1</td>\n",
              "    </tr>\n",
              "    <tr>\n",
              "      <th>3</th>\n",
              "      <td>66</td>\n",
              "      <td>0</td>\n",
              "    </tr>\n",
              "    <tr>\n",
              "      <th>4</th>\n",
              "      <td>40</td>\n",
              "      <td>1</td>\n",
              "    </tr>\n",
              "    <tr>\n",
              "      <th>5</th>\n",
              "      <td>74</td>\n",
              "      <td>0</td>\n",
              "    </tr>\n",
              "  </tbody>\n",
              "</table>\n",
              "</div>"
            ],
            "text/plain": [
              "   pres  class\n",
              "0    72      1\n",
              "1    66      0\n",
              "2    64      1\n",
              "3    66      0\n",
              "4    40      1\n",
              "5    74      0"
            ]
          },
          "metadata": {
            "tags": []
          },
          "execution_count": 76
        }
      ]
    },
    {
      "metadata": {
        "id": "O-CcsoqlhxUn",
        "colab_type": "text"
      },
      "cell_type": "markdown",
      "source": [
        "Run the cell below, it will print out the correlation among the columns"
      ]
    },
    {
      "metadata": {
        "id": "pXpVFt6MffQt",
        "colab_type": "code",
        "colab": {
          "base_uri": "https://localhost:8080/",
          "height": 314
        },
        "outputId": "11580fa4-bfc3-45e9-fa54-96309356c2dc"
      },
      "cell_type": "code",
      "source": [
        "data.corr()"
      ],
      "execution_count": 77,
      "outputs": [
        {
          "output_type": "execute_result",
          "data": {
            "text/html": [
              "<div>\n",
              "<style scoped>\n",
              "    .dataframe tbody tr th:only-of-type {\n",
              "        vertical-align: middle;\n",
              "    }\n",
              "\n",
              "    .dataframe tbody tr th {\n",
              "        vertical-align: top;\n",
              "    }\n",
              "\n",
              "    .dataframe thead th {\n",
              "        text-align: right;\n",
              "    }\n",
              "</style>\n",
              "<table border=\"1\" class=\"dataframe\">\n",
              "  <thead>\n",
              "    <tr style=\"text-align: right;\">\n",
              "      <th></th>\n",
              "      <th>preg</th>\n",
              "      <th>plas</th>\n",
              "      <th>pres</th>\n",
              "      <th>skin</th>\n",
              "      <th>test</th>\n",
              "      <th>mass</th>\n",
              "      <th>pedi</th>\n",
              "      <th>age</th>\n",
              "      <th>class</th>\n",
              "    </tr>\n",
              "  </thead>\n",
              "  <tbody>\n",
              "    <tr>\n",
              "      <th>preg</th>\n",
              "      <td>1.000000</td>\n",
              "      <td>0.129459</td>\n",
              "      <td>0.141282</td>\n",
              "      <td>-0.081672</td>\n",
              "      <td>-0.073535</td>\n",
              "      <td>0.017683</td>\n",
              "      <td>-0.033523</td>\n",
              "      <td>0.544341</td>\n",
              "      <td>0.221898</td>\n",
              "    </tr>\n",
              "    <tr>\n",
              "      <th>plas</th>\n",
              "      <td>0.129459</td>\n",
              "      <td>1.000000</td>\n",
              "      <td>0.152590</td>\n",
              "      <td>0.057328</td>\n",
              "      <td>0.331357</td>\n",
              "      <td>0.221071</td>\n",
              "      <td>0.137337</td>\n",
              "      <td>0.263514</td>\n",
              "      <td>0.466581</td>\n",
              "    </tr>\n",
              "    <tr>\n",
              "      <th>pres</th>\n",
              "      <td>0.141282</td>\n",
              "      <td>0.152590</td>\n",
              "      <td>1.000000</td>\n",
              "      <td>0.207371</td>\n",
              "      <td>0.088933</td>\n",
              "      <td>0.281805</td>\n",
              "      <td>0.041265</td>\n",
              "      <td>0.239528</td>\n",
              "      <td>0.065068</td>\n",
              "    </tr>\n",
              "    <tr>\n",
              "      <th>skin</th>\n",
              "      <td>-0.081672</td>\n",
              "      <td>0.057328</td>\n",
              "      <td>0.207371</td>\n",
              "      <td>1.000000</td>\n",
              "      <td>0.436783</td>\n",
              "      <td>0.392573</td>\n",
              "      <td>0.183928</td>\n",
              "      <td>-0.113970</td>\n",
              "      <td>0.074752</td>\n",
              "    </tr>\n",
              "    <tr>\n",
              "      <th>test</th>\n",
              "      <td>-0.073535</td>\n",
              "      <td>0.331357</td>\n",
              "      <td>0.088933</td>\n",
              "      <td>0.436783</td>\n",
              "      <td>1.000000</td>\n",
              "      <td>0.197859</td>\n",
              "      <td>0.185071</td>\n",
              "      <td>-0.042163</td>\n",
              "      <td>0.130548</td>\n",
              "    </tr>\n",
              "    <tr>\n",
              "      <th>mass</th>\n",
              "      <td>0.017683</td>\n",
              "      <td>0.221071</td>\n",
              "      <td>0.281805</td>\n",
              "      <td>0.392573</td>\n",
              "      <td>0.197859</td>\n",
              "      <td>1.000000</td>\n",
              "      <td>0.140647</td>\n",
              "      <td>0.036242</td>\n",
              "      <td>0.292695</td>\n",
              "    </tr>\n",
              "    <tr>\n",
              "      <th>pedi</th>\n",
              "      <td>-0.033523</td>\n",
              "      <td>0.137337</td>\n",
              "      <td>0.041265</td>\n",
              "      <td>0.183928</td>\n",
              "      <td>0.185071</td>\n",
              "      <td>0.140647</td>\n",
              "      <td>1.000000</td>\n",
              "      <td>0.033561</td>\n",
              "      <td>0.173844</td>\n",
              "    </tr>\n",
              "    <tr>\n",
              "      <th>age</th>\n",
              "      <td>0.544341</td>\n",
              "      <td>0.263514</td>\n",
              "      <td>0.239528</td>\n",
              "      <td>-0.113970</td>\n",
              "      <td>-0.042163</td>\n",
              "      <td>0.036242</td>\n",
              "      <td>0.033561</td>\n",
              "      <td>1.000000</td>\n",
              "      <td>0.238356</td>\n",
              "    </tr>\n",
              "    <tr>\n",
              "      <th>class</th>\n",
              "      <td>0.221898</td>\n",
              "      <td>0.466581</td>\n",
              "      <td>0.065068</td>\n",
              "      <td>0.074752</td>\n",
              "      <td>0.130548</td>\n",
              "      <td>0.292695</td>\n",
              "      <td>0.173844</td>\n",
              "      <td>0.238356</td>\n",
              "      <td>1.000000</td>\n",
              "    </tr>\n",
              "  </tbody>\n",
              "</table>\n",
              "</div>"
            ],
            "text/plain": [
              "           preg      plas      pres      skin      test      mass      pedi  \\\n",
              "preg   1.000000  0.129459  0.141282 -0.081672 -0.073535  0.017683 -0.033523   \n",
              "plas   0.129459  1.000000  0.152590  0.057328  0.331357  0.221071  0.137337   \n",
              "pres   0.141282  0.152590  1.000000  0.207371  0.088933  0.281805  0.041265   \n",
              "skin  -0.081672  0.057328  0.207371  1.000000  0.436783  0.392573  0.183928   \n",
              "test  -0.073535  0.331357  0.088933  0.436783  1.000000  0.197859  0.185071   \n",
              "mass   0.017683  0.221071  0.281805  0.392573  0.197859  1.000000  0.140647   \n",
              "pedi  -0.033523  0.137337  0.041265  0.183928  0.185071  0.140647  1.000000   \n",
              "age    0.544341  0.263514  0.239528 -0.113970 -0.042163  0.036242  0.033561   \n",
              "class  0.221898  0.466581  0.065068  0.074752  0.130548  0.292695  0.173844   \n",
              "\n",
              "            age     class  \n",
              "preg   0.544341  0.221898  \n",
              "plas   0.263514  0.466581  \n",
              "pres   0.239528  0.065068  \n",
              "skin  -0.113970  0.074752  \n",
              "test  -0.042163  0.130548  \n",
              "mass   0.036242  0.292695  \n",
              "pedi   0.033561  0.173844  \n",
              "age    1.000000  0.238356  \n",
              "class  0.238356  1.000000  "
            ]
          },
          "metadata": {
            "tags": []
          },
          "execution_count": 77
        }
      ]
    },
    {
      "metadata": {
        "id": "P_7xRF11h4Uf",
        "colab_type": "text"
      },
      "cell_type": "markdown",
      "source": [
        "What column has the highest correlation with class? Find the mean() value of that column"
      ]
    },
    {
      "metadata": {
        "id": "clb2Gh8Mn9d4",
        "colab_type": "code",
        "colab": {
          "base_uri": "https://localhost:8080/",
          "height": 34
        },
        "outputId": "7ecadcc0-53d8-435f-cdbf-50c8abf0d5ab"
      },
      "cell_type": "code",
      "source": [
        "# your code here\n",
        "data.plas.mean()"
      ],
      "execution_count": 78,
      "outputs": [
        {
          "output_type": "execute_result",
          "data": {
            "text/plain": [
              "120.89453125"
            ]
          },
          "metadata": {
            "tags": []
          },
          "execution_count": 78
        }
      ]
    },
    {
      "metadata": {
        "id": "64yWhAARoWw-",
        "colab_type": "text"
      },
      "cell_type": "markdown",
      "source": [
        "Create a new dataframe with only people that are above the mean found above"
      ]
    },
    {
      "metadata": {
        "id": "HRLjs3agkdPY",
        "colab_type": "code",
        "colab": {
          "base_uri": "https://localhost:8080/",
          "height": 1092
        },
        "outputId": "47469b2b-a244-4aa7-bd9e-c777eb5e50ba"
      },
      "cell_type": "code",
      "source": [
        "# your code here\n",
        "above = data.plas > data.plas.mean()\n",
        "above_mean = data[data['plas'] > data.plas.mean()]\n",
        "print(above_mean)"
      ],
      "execution_count": 99,
      "outputs": [
        {
          "output_type": "stream",
          "text": [
            "     preg  plas  pres  skin  test  mass   pedi  age  class\n",
            "0       6   148    72    35     0  33.6  0.627   50      1\n",
            "2       8   183    64     0     0  23.3  0.672   32      1\n",
            "4       0   137    40    35   168  43.1  2.288   33      1\n",
            "8       2   197    70    45   543  30.5  0.158   53      1\n",
            "9       8   125    96     0     0   0.0  0.232   54      1\n",
            "11     10   168    74     0     0  38.0  0.537   34      1\n",
            "12     10   139    80     0     0  27.1  1.441   57      0\n",
            "13      1   189    60    23   846  30.1  0.398   59      1\n",
            "14      5   166    72    19   175  25.8  0.587   51      1\n",
            "20      3   126    88    41   235  39.3  0.704   27      0\n",
            "22      7   196    90     0     0  39.8  0.451   41      1\n",
            "24     11   143    94    33   146  36.6  0.254   51      1\n",
            "25     10   125    70    26   115  31.1  0.205   41      1\n",
            "26      7   147    76     0     0  39.4  0.257   43      1\n",
            "28     13   145    82    19   110  22.2  0.245   57      0\n",
            "31      3   158    76    36   245  31.6  0.851   28      1\n",
            "34     10   122    78    31     0  27.6  0.512   45      0\n",
            "36     11   138    76     0     0  33.2  0.420   35      0\n",
            "40      3   180    64    25    70  34.0  0.271   26      0\n",
            "41      7   133    84     0     0  40.2  0.696   37      0\n",
            "43      9   171   110    24   240  45.4  0.721   54      1\n",
            "44      7   159    64     0     0  27.4  0.294   40      0\n",
            "45      0   180    66    39     0  42.0  1.893   25      1\n",
            "46      1   146    56     0     0  29.7  0.564   29      0\n",
            "53      8   176    90    34   300  33.7  0.467   58      1\n",
            "54      7   150    66    42   342  34.7  0.718   42      0\n",
            "56      7   187    68    39   304  37.7  0.254   41      1\n",
            "58      0   146    82     0     0  40.5  1.781   44      0\n",
            "61      8   133    72     0     0  32.9  0.270   39      1\n",
            "63      2   141    58    34   128  25.4  0.699   24      0\n",
            "..    ...   ...   ...   ...   ...   ...    ...  ...    ...\n",
            "708     9   164    78     0     0  32.8  0.148   45      1\n",
            "710     3   158    64    13   387  31.2  0.295   24      0\n",
            "711     5   126    78    27    22  29.6  0.439   40      0\n",
            "712    10   129    62    36     0  41.2  0.441   38      1\n",
            "713     0   134    58    20   291  26.4  0.352   21      0\n",
            "715     7   187    50    33   392  33.9  0.826   34      1\n",
            "716     3   173    78    39   185  33.8  0.970   31      1\n",
            "722     1   149    68    29   127  29.3  0.349   42      1\n",
            "727     0   141    84    26     0  32.4  0.433   22      0\n",
            "728     2   175    88     0     0  22.9  0.326   22      0\n",
            "730     3   130    78    23    79  28.4  0.323   34      1\n",
            "732     2   174    88    37   120  44.5  0.646   24      1\n",
            "736     0   126    86    27   120  27.4  0.515   21      0\n",
            "743     9   140    94     0     0  32.7  0.734   45      1\n",
            "744    13   153    88    37   140  40.6  1.174   39      0\n",
            "746     1   147    94    41     0  49.3  0.358   27      1\n",
            "748     3   187    70    22   200  36.4  0.408   36      1\n",
            "749     6   162    62     0     0  24.3  0.178   50      1\n",
            "750     4   136    70     0     0  31.2  1.182   22      1\n",
            "751     1   121    78    39    74  39.0  0.261   28      0\n",
            "753     0   181    88    44   510  43.3  0.222   26      1\n",
            "754     8   154    78    32     0  32.4  0.443   45      1\n",
            "755     1   128    88    39   110  36.5  1.057   37      1\n",
            "756     7   137    90    41     0  32.0  0.391   39      0\n",
            "757     0   123    72     0     0  36.3  0.258   52      1\n",
            "759     6   190    92     0     0  35.5  0.278   66      1\n",
            "761     9   170    74    31     0  44.0  0.403   43      1\n",
            "764     2   122    70    27     0  36.8  0.340   27      0\n",
            "765     5   121    72    23   112  26.2  0.245   30      0\n",
            "766     1   126    60     0     0  30.1  0.349   47      1\n",
            "\n",
            "[349 rows x 9 columns]\n"
          ],
          "name": "stdout"
        }
      ]
    },
    {
      "metadata": {
        "id": "VvUV0lrRmiB7",
        "colab_type": "text"
      },
      "cell_type": "markdown",
      "source": [
        "What percent of the new dataframe have diabetes"
      ]
    },
    {
      "metadata": {
        "id": "tx3x0WsFl3ya",
        "colab_type": "code",
        "colab": {
          "base_uri": "https://localhost:8080/",
          "height": 34
        },
        "outputId": "399e9d8b-82b2-4004-aad1-c8d6e8bfb148"
      },
      "cell_type": "code",
      "source": [
        "# your code here\n",
        "new_have_d = list(i for i in above_mean['class'] if i < 1)\n",
        "new_no_d = above_mean['class'] > 0\n",
        "print((len(new_have_d)/len(above_mean)) *100)\n",
        "#print(len(above_mean)/len(data)*100)"
      ],
      "execution_count": 101,
      "outputs": [
        {
          "output_type": "stream",
          "text": [
            "44.126074498567334\n"
          ],
          "name": "stdout"
        }
      ]
    },
    {
      "metadata": {
        "id": "RxGIQp0JrUnq",
        "colab_type": "text"
      },
      "cell_type": "markdown",
      "source": [
        "Create a new dataframe that only includes people who are above the average value for each column in the dataset (except 'class'). In other words, find the average value for each column, and then find which users have values above all of these average column values"
      ]
    },
    {
      "metadata": {
        "id": "Ylf4p6NNrfME",
        "colab_type": "code",
        "colab": {}
      },
      "cell_type": "code",
      "source": [
        "# write code here"
      ],
      "execution_count": 0,
      "outputs": []
    },
    {
      "metadata": {
        "id": "BIJkXsK4ch-u",
        "colab_type": "text"
      },
      "cell_type": "markdown",
      "source": [
        "Using what you have learned (and google) explore the data. Discuss what you find with people around you or the instructors"
      ]
    },
    {
      "metadata": {
        "id": "kSl28jLLdAF9",
        "colab_type": "code",
        "colab": {}
      },
      "cell_type": "code",
      "source": [
        "# write code here"
      ],
      "execution_count": 0,
      "outputs": []
    }
  ]
}